{
 "cells": [
  {
   "cell_type": "markdown",
   "metadata": {},
   "source": [
    "### 1.Cho một list các số nguyên num_list và một sliding window có kích thước size k di chuyển từ trái sang phải. Mỗi lần dịch chuyển 1 vị trí sang phải có thể nhìn thấy đươc k số trong num_list và tìm số lớn nhất trong k số này sau mỗi lần trượt k phải lớn hơn hoặc bằng 1\n",
    "##### Input: num_list = [3, 4, 5, 1, -44 , 5 ,10, 12 ,33, 1] với k=3\n",
    "##### Output: [5, 5, 5, 5, 10, 12, 33, 33]"
   ]
  },
  {
   "cell_type": "code",
   "execution_count": 15,
   "metadata": {},
   "outputs": [
    {
     "name": "stdout",
     "output_type": "stream",
     "text": [
      "[5, 5, 5, 5, 10, 12, 33, 33]\n"
     ]
    }
   ],
   "source": [
    "#num = [-1,4,6,9,2,5,3]\n",
    "#print(len(num)-k+1)\n",
    "#print(num[0:3])\n",
    "#print(type(num))\n",
    "\n",
    "def max_kernel (num_list,k):\n",
    "    result = []\n",
    "    for i in range(len(num_list)-k+1):\n",
    "        slicing_window = num_list[i:i+k]\n",
    "        max_value = max(slicing_window)\n",
    "        result.append(max_value)\n",
    "        \n",
    "    return result\n",
    "\n",
    "assert max_kernel([3,4,5,1,-44],3) == [5,5,5]\n",
    "num_list = [3,4,5,1,-44,5,10,12,33,1]\n",
    "k = 3\n",
    "print(max_kernel(num_list,k))\n",
    "\n",
    "\n",
    "#trac nghiem 1 a"
   ]
  },
  {
   "cell_type": "markdown",
   "metadata": {},
   "source": [
    "### 2.Viết function trả về một dictionary đếm số lượng chữ xuất hiện trong một từ, với key là chữ cái và value là số lần xuất hiện\n",
    "##### Input: một từ\n",
    "##### Output: dictionary đếm số lần các chữ xuất hiện\n",
    "##### Note: Giả sử các từ nhập vào đều có các chữ cái thuộc [a-z] hoặc [A-Z]"
   ]
  },
  {
   "cell_type": "code",
   "execution_count": 30,
   "metadata": {},
   "outputs": [
    {
     "name": "stdout",
     "output_type": "stream",
     "text": [
      "1\n",
      "2\n"
     ]
    }
   ],
   "source": [
    "dic = {\"h\":1,\"a\":2}\n",
    "# print(dic[\"h\"])\n",
    "for i in dic:\n",
    "    print (dic[i])"
   ]
  },
  {
   "cell_type": "code",
   "execution_count": 32,
   "metadata": {},
   "outputs": [
    {
     "name": "stdout",
     "output_type": "stream",
     "text": [
      "{'B': 1, 'a': 1, 'b': 1, 'y': 1}\n",
      "{'H': 1, 'a': 1, 'p': 2, 'i': 1, 'n': 1, 'e': 1, 's': 2}\n"
     ]
    }
   ],
   "source": [
    "def count_chars(word):\n",
    "    result = {}\n",
    "    count = 0\n",
    "    for i in word:\n",
    "        if i in result:\n",
    "            result[i] += result[i]\n",
    "        else:\n",
    "            result[i] = 1\n",
    "\n",
    "    return result\n",
    "\n",
    "assert count_chars('Baby')=={'B':1,'a':1,'b':1,'y':1}\n",
    "# print(count_chars(\"yeu\"))\n",
    "string = 'Happiness'\n",
    "print(count_chars ('Baby'))\n",
    "print(count_chars ( string ))"
   ]
  },
  {
   "cell_type": "markdown",
   "metadata": {},
   "source": [
    "### 3. Viết function đọc các câu trong một file txt, đếm số lượng các từ xuất hiện và trả về một dictionary với key là từ và value là số lần từ đó xuất hiện.\n",
    "##### Input: Đường dẫn đến file txt\n",
    "##### Output: dictionary đếm số lần các từ xuất hiện\n"
   ]
  },
  {
   "cell_type": "code",
   "execution_count": null,
   "metadata": {},
   "outputs": [],
   "source": []
  },
  {
   "cell_type": "code",
   "execution_count": null,
   "metadata": {},
   "outputs": [],
   "source": []
  }
 ],
 "metadata": {
  "kernelspec": {
   "display_name": "torch",
   "language": "python",
   "name": "torch"
  },
  "language_info": {
   "codemirror_mode": {
    "name": "ipython",
    "version": 3
   },
   "file_extension": ".py",
   "mimetype": "text/x-python",
   "name": "python",
   "nbconvert_exporter": "python",
   "pygments_lexer": "ipython3",
   "version": "3.9.18"
  }
 },
 "nbformat": 4,
 "nbformat_minor": 2
}
