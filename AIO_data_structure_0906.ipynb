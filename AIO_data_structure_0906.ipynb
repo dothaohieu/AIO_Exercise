{
 "cells": [
  {
   "cell_type": "markdown",
   "metadata": {},
   "source": [
    "### 1.Cho một list các số nguyên num_list và một sliding window có kích thước size k di chuyển từ trái sang phải. Mỗi lần dịch chuyển 1 vị trí sang phải có thể nhìn thấy đươc k số trong num_list và tìm số lớn nhất trong k số này sau mỗi lần trượt k phải lớn hơn hoặc bằng 1\n",
    "##### Input: num_list = [3, 4, 5, 1, -44 , 5 ,10, 12 ,33, 1] với k=3\n",
    "##### Output: [5, 5, 5, 5, 10, 12, 33, 33]"
   ]
  },
  {
   "cell_type": "code",
   "execution_count": 11,
   "metadata": {},
   "outputs": [
    {
     "name": "stdout",
     "output_type": "stream",
     "text": [
      "[5, 5, 5, 5, 10, 12, 33, 33]\n"
     ]
    }
   ],
   "source": [
    "#num = [-1,4,6,9,2,5,3]\n",
    "#print(len(num)-k+1)\n",
    "#print(num[0:3])\n",
    "#print(type(num))\n",
    "\n",
    "def max_kernel (num_list,k):\n",
    "    result = []\n",
    "    for i in range(len(num_list)-k+1):\n",
    "        slicing_window = num_list[i:i+k]\n",
    "        max_value = max(slicing_window)\n",
    "        result.append(max_value)\n",
    "        \n",
    "    return result\n",
    "\n",
    "assert max_kernel([3,4,5,1,-44],3) == [5,5,5]\n",
    "num_list = [3,4,5,1,-44,5,10,12,33,1]\n",
    "k = 3\n",
    "print(max_kernel(num_list,k))\n",
    "\n",
    "\n",
    "#trac nghiem 1 a"
   ]
  },
  {
   "cell_type": "markdown",
   "metadata": {},
   "source": [
    "### 2.Viết function trả về một dictionary đếm số lượng chữ xuất hiện trong một từ, với key là chữ cái và value là số lần xuất hiện\n",
    "##### Input: một từ\n",
    "##### Output: dictionary đếm số lần các chữ xuất hiện\n",
    "##### Note: Giả sử các từ nhập vào đều có các chữ cái thuộc [a-z] hoặc [A-Z]"
   ]
  },
  {
   "cell_type": "code",
   "execution_count": 12,
   "metadata": {},
   "outputs": [
    {
     "name": "stdout",
     "output_type": "stream",
     "text": [
      "1\n",
      "2\n"
     ]
    }
   ],
   "source": [
    "dic = {\"h\":1,\"a\":2}\n",
    "# print(dic[\"h\"])\n",
    "for i in dic:\n",
    "    print (dic[i])"
   ]
  },
  {
   "cell_type": "code",
   "execution_count": 13,
   "metadata": {},
   "outputs": [
    {
     "name": "stdout",
     "output_type": "stream",
     "text": [
      "{'B': 1, 'a': 1, 'b': 1, 'y': 1}\n",
      "{'s': 2, 'm': 1, 'i': 1, 'l': 1, 'e': 1}\n"
     ]
    }
   ],
   "source": [
    "def count_chars(word):\n",
    "    result = {}\n",
    "    count = 0\n",
    "    for i in word:\n",
    "        if i in result:\n",
    "            result[i] += result[i]\n",
    "        else:\n",
    "            result[i] = 1\n",
    "\n",
    "    return result\n",
    "\n",
    "assert count_chars('Baby')=={'B':1,'a':1,'b':1,'y':1}\n",
    "# print(count_chars(\"yeu\"))\n",
    "string = 'smiles'\n",
    "print(count_chars ('Baby'))\n",
    "print(count_chars ( string ))"
   ]
  },
  {
   "cell_type": "markdown",
   "metadata": {},
   "source": [
    "### 3. Viết function đọc các câu trong một file txt, đếm số lượng các từ xuất hiện và trả về một dictionary với key là từ và value là số lần từ đó xuất hiện.\n",
    "##### Input: Đường dẫn đến file txt\n",
    "##### Output: dictionary đếm số lần các từ xuất hiện\n"
   ]
  },
  {
   "cell_type": "code",
   "execution_count": 14,
   "metadata": {},
   "outputs": [
    {
     "name": "stdout",
     "output_type": "stream",
     "text": [
      "{'He': 1, 'who': 3, 'conquers': 1, 'himself': 1, 'is': 3, 'the': 4, 'mightiest': 1, 'warrior': 1, 'Try': 1, 'not': 1, 'to': 3, 'become': 2, 'a': 6, 'man': 6, 'of': 4, 'success': 2, 'but': 1, 'rather': 1, 'value': 1, 'One': 2, 'with': 4, 'courage': 1, 'makes': 1, 'majority': 1, 'secret': 1, 'in': 4, 'life': 2, 'for': 3, 'be': 1, 'ready': 1, 'his': 2, 'opportunity': 1, 'when': 2, 'it': 2, 'comes': 2, 'The': 1, 'successful': 2, 'will': 2, 'profit': 1, 'from': 1, 'mistakes': 1, 'and': 1, 'try': 1, 'again': 1, 'different': 1, 'way': 1, 'A': 1, 'one': 2, 'can': 3, 'lay': 1, 'firm': 1, 'foundation': 1, 'bricks': 1, 'others': 1, 'have': 1, 'thrown': 1, 'at': 1, 'him': 1, 'Success': 1, 'usually': 1, 'those': 1, 'are': 1, 'too': 1, 'busy': 1, 'looking': 1, 'We': 1, 'cannot': 1, 'solve': 1, 'problems': 1, 'kind': 1, 'thinking': 1, 'we': 2, 'employed': 1, 'came': 1, 'up': 1, 'them': 1, 'Just': 1, 'small': 1, 'positive': 1, 'thought': 1, 'morning': 1, 'change': 1, 'your': 1, 'whole': 1, 'day': 1, 'You': 1, 'get': 2, 'everything': 1, 'you': 2, 'want': 2, 'if': 1, 'just': 1, 'help': 1, 'enough': 1, 'other': 1, 'people': 1, 'what': 1, 'they': 1}\n",
      "6\n"
     ]
    }
   ],
   "source": [
    "# sử dụng hàm counter để đếm từ\n",
    "from collections import Counter\n",
    "\n",
    "def count_word (file_path) :\n",
    "    with open(file_path,'r', encoding='utf-8') as file:\n",
    "        content = file.read()\n",
    "    # counter = {}\n",
    "    counter=dict(Counter(content.split()))\n",
    "    # print(a)\n",
    "    return counter\n",
    "\n",
    "file_path = '/Users/dothaohieu/Desktop/AIO/AIO_Exercise/P1_data.txt'\n",
    "result = count_word ( file_path )\n",
    "assert result['who'] == 3\n",
    "print(result)\n",
    "print ( result ['man'])"
   ]
  },
  {
   "cell_type": "markdown",
   "metadata": {},
   "source": [
    "### 4. Khoảng cách Levenshtein."
   ]
  },
  {
   "cell_type": "code",
   "execution_count": 15,
   "metadata": {},
   "outputs": [
    {
     "name": "stdout",
     "output_type": "stream",
     "text": [
      "3\n"
     ]
    }
   ],
   "source": [
    "def levenshtein_distance(src, dst):\n",
    "    l1 = len(src)+1\n",
    "    l2 = len(dst)+1\n",
    "    storage_matrix = [[0 for _ in range(l2)] for _ in range(l1)]\n",
    "    for i in range(l2):\n",
    "        storage_matrix[0][i] = i\n",
    "    for i in range(l1):\n",
    "        storage_matrix[i][0] = i \n",
    "    for i in range(1, l1):\n",
    "        for j in range(1,l2):\n",
    "            if src[i-1] == dst[j-1]:\n",
    "                temp = 0\n",
    "            else:\n",
    "                temp = 1\n",
    "            storage_matrix[i][j] = min(storage_matrix[i-1][j-1]+temp, storage_matrix[i - 1][j] + 1, storage_matrix[i][j-1] + 1)\n",
    "    return storage_matrix[-1][-1]\n",
    "# print(levenshtein_distance(\"yo\", \"you\"))\n",
    "\n",
    "assert levenshtein_distance (\"hi\",\"hello\") == 4.0\n",
    "print ( levenshtein_distance (\"hola\", \"hello\") )"
   ]
  },
  {
   "cell_type": "markdown",
   "metadata": {},
   "source": [
    "### Câu 5: Hoàn thành chương trình"
   ]
  },
  {
   "cell_type": "code",
   "execution_count": null,
   "metadata": {},
   "outputs": [],
   "source": []
  },
  {
   "cell_type": "code",
   "execution_count": 16,
   "metadata": {},
   "outputs": [
    {
     "name": "stdout",
     "output_type": "stream",
     "text": [
      " True \n"
     ]
    }
   ],
   "source": [
    "def check_the_number ( N ) :\n",
    "    list_of_numbers = []\n",
    "    result = \"\"\n",
    "    for i in range (1 , 5) :\n",
    "# Your code here\n",
    "        list_of_numbers.append(i)\n",
    "#Su dung append them i vao trong list_of_number\n",
    "    if N in list_of_numbers :\n",
    "        results = \" True \"\n",
    "    if N not in list_of_numbers :\n",
    "        results = \" False \"\n",
    "    return results\n",
    "\n",
    "N = 7\n",
    "assert check_the_number ( N ) == \" False \"\n",
    "N=2\n",
    "results = check_the_number ( N )\n",
    "print(results)"
   ]
  },
  {
   "cell_type": "markdown",
   "metadata": {},
   "source": [
    "### Câu 6 Hoàn thành chương trình"
   ]
  },
  {
   "cell_type": "code",
   "execution_count": 17,
   "metadata": {},
   "outputs": [
    {
     "name": "stdout",
     "output_type": "stream",
     "text": [
      "[2, 2, 2, 1, 1]\n"
     ]
    }
   ],
   "source": [
    "def my_function ( data , max , min) :\n",
    "    result = []\n",
    "    for i in data :\n",
    "# Your code here\n",
    "        if i < min:\n",
    "            result.append(min)\n",
    "# Neu i < min thi them min vao result\n",
    "        elif i > max :\n",
    "            result . append ( max )\n",
    "        else :\n",
    "            result . append ( i )\n",
    "    return result\n",
    "my_list = [5 , 2 , 5 , 0 , 1]\n",
    "max = 1\n",
    "min = 0\n",
    "assert my_function (max = max , min = min , data = my_list ) == [1 , 1 , 1 , 0 , 1]\n",
    "my_list = [10 , 2 , 5 , 0 , 1]\n",
    "max = 2\n",
    "min = 1\n",
    "print ( my_function (max = max , min = min , data = my_list ) )"
   ]
  },
  {
   "cell_type": "markdown",
   "metadata": {},
   "source": [
    "### Câu 7 Hoàn thành chương trình"
   ]
  },
  {
   "cell_type": "code",
   "execution_count": 18,
   "metadata": {},
   "outputs": [
    {
     "name": "stdout",
     "output_type": "stream",
     "text": [
      "[1, 2, 3, 4, 0, 0]\n"
     ]
    }
   ],
   "source": [
    "def my_function (x , y ) :\n",
    "# Your code here\n",
    "    x.extend(y)\n",
    "#Su dung extend de noi y vao x\n",
    "    return x\n",
    "\n",
    "list_num1 = ['a', 2 , 5]\n",
    "list_num2 = [1 , 1]\n",
    "list_num3 = [0 , 0]\n",
    "\n",
    "assert my_function ( list_num1 , my_function ( list_num2 , list_num3 ) ) == ['a', 2 , 5 , 1 , 1 ,\n",
    "0 , 0]\n",
    "list_num1 = [1 , 2]\n",
    "list_num2 = [3 , 4]\n",
    "list_num3 = [0 , 0]\n",
    "\n",
    "print ( my_function ( list_num1 , my_function ( list_num2 , list_num3 ) ) )"
   ]
  },
  {
   "cell_type": "markdown",
   "metadata": {},
   "source": [
    "### Câu 8: Hoàn thành chương trình tìm phần tử có giá trị nhỏ nhất trong list"
   ]
  },
  {
   "cell_type": "code",
   "execution_count": 1,
   "metadata": {},
   "outputs": [
    {
     "name": "stdout",
     "output_type": "stream",
     "text": [
      "-1\n"
     ]
    }
   ],
   "source": [
    "def my_function(n):\n",
    "# Your code herev\n",
    "    return min(n)\n",
    "\n",
    "my_list =[1,22,93,-100]\n",
    "assert my_function(my_list) == -100\n",
    "# print(min(my_list))\n",
    "my_list = [1 , 2 , 3 , -1]\n",
    "print(my_function(my_list))"
   ]
  },
  {
   "cell_type": "markdown",
   "metadata": {},
   "source": [
    "### Câu 9: Hoàn thành chương trình tìm phần tử có giá trị lớn nhất trong list"
   ]
  },
  {
   "cell_type": "code",
   "execution_count": null,
   "metadata": {},
   "outputs": [
    {
     "name": "stdout",
     "output_type": "stream",
     "text": [
      "9\n"
     ]
    }
   ],
   "source": [
    "def my_function(n):\n",
    "# Your code herev\n",
    "    return max(n)\n",
    "\n",
    "my_list = [1001 , 9 , 100 , 0]\n",
    "assert my_function ( my_list ) == 1001\n",
    "# print(min(my_list))\n",
    "my_list = [1 , 9 , 9 , 0]\n",
    "print ( my_function ( my_list ) )"
   ]
  },
  {
   "cell_type": "markdown",
   "metadata": {},
   "source": [
    "### Câu 10: Hòan thành chương trình"
   ]
  },
  {
   "cell_type": "code",
   "execution_count": null,
   "metadata": {},
   "outputs": [
    {
     "name": "stdout",
     "output_type": "stream",
     "text": [
      "True\n"
     ]
    }
   ],
   "source": [
    "def My_function ( integers , number = 1) :\n",
    "    for i in integers:\n",
    "        if i == number:\n",
    "            return True\n",
    "    return False\n",
    "# Your code here : Thuc hien duyet tung phan tu trong integers , so sanh tung phan tu voi number , neu bang nhau tra ve True , khac nhau tra ve false\n",
    "#vi du: integers = [1 , 2 , 3] , number = 2 , ban se tao ra list [False ,True , False ] )\n",
    "\n",
    "my_list = [1 , 3 , 9 , 4]\n",
    "assert My_function ( my_list , -1) == False\n",
    "\n",
    "my_list = [1 , 2 , 3 , 4]\n",
    "print ( My_function ( my_list , 2) )"
   ]
  },
  {
   "cell_type": "markdown",
   "metadata": {},
   "source": [
    "### Câu 11 Hòan thành chương trình"
   ]
  },
  {
   "cell_type": "code",
   "execution_count": null,
   "metadata": {},
   "outputs": [
    {
     "name": "stdout",
     "output_type": "stream",
     "text": [
      "1.0\n"
     ]
    }
   ],
   "source": [
    "def my_function (list_nums = [0 , 1 , 2]) :\n",
    "    var = 0\n",
    "    for i in list_nums :\n",
    "        var += i\n",
    "    return var/len(list_nums)\n",
    "# Your code here : Tra ve gia tri trung binh cua list bang cach chia var cho so luong phan tu trong list_mums\n",
    "\n",
    "assert my_function ([4 , 6 , 8]) == 6\n",
    "print ( my_function () )"
   ]
  },
  {
   "cell_type": "markdown",
   "metadata": {},
   "source": [
    "### Câu 12 Hoàn thành chương trình"
   ]
  },
  {
   "cell_type": "code",
   "execution_count": null,
   "metadata": {},
   "outputs": [
    {
     "name": "stdout",
     "output_type": "stream",
     "text": [
      "[3, 6]\n"
     ]
    }
   ],
   "source": [
    "def my_function ( data ) :\n",
    "    var = []\n",
    "    for i in data :\n",
    "# Your code here\n",
    "        if i%3 == 0:\n",
    "            var.append(i)\n",
    "# Neu i chia het cho 3 thi them i vao list var\n",
    "    return var\n",
    "\n",
    "assert my_function ([3 , 9 , 4 , 5]) == [3 , 9]\n",
    "print ( my_function ([1 , 2 , 3 , 5 , 6]) )"
   ]
  },
  {
   "cell_type": "markdown",
   "metadata": {},
   "source": [
    "### Câu 13 Hoàn thành chương trình"
   ]
  },
  {
   "cell_type": "code",
   "execution_count": null,
   "metadata": {},
   "outputs": [
    {
     "name": "stdout",
     "output_type": "stream",
     "text": [
      "24\n"
     ]
    }
   ],
   "source": [
    "def my_function ( y ) :\n",
    "    var = 1\n",
    "    while ( y > 1) :\n",
    " # Your code here\n",
    "        var = var*y\n",
    "        y=y-1\n",
    "    return var\n",
    "\n",
    "assert my_function (8) == 40320\n",
    "print ( my_function (4) )"
   ]
  },
  {
   "cell_type": "markdown",
   "metadata": {},
   "source": [
    "### Câu 14 Hoàn thành chương trình"
   ]
  },
  {
   "cell_type": "code",
   "execution_count": null,
   "metadata": {},
   "outputs": [
    {
     "name": "stdout",
     "output_type": "stream",
     "text": [
      "tocirpa\n"
     ]
    }
   ],
   "source": [
    "def my_function (x) :\n",
    "# your code here\n",
    "    return ''.join(reversed(x))\n",
    "\n",
    "x = 'I can do it'\n",
    "assert my_function (x) ==\"ti od nac I\"\n",
    "\n",
    "x = 'apricot'\n",
    "print (my_function(x))"
   ]
  },
  {
   "cell_type": "markdown",
   "metadata": {},
   "source": [
    "### Câu 15 Hoàn thành chương trình"
   ]
  },
  {
   "cell_type": "code",
   "execution_count": null,
   "metadata": {},
   "outputs": [
    {
     "name": "stdout",
     "output_type": "stream",
     "text": [
      "['T', 'T', 'T', 'N']\n"
     ]
    }
   ],
   "source": [
    "def function_helper ( x ) :\n",
    "# Your code here\n",
    "# Neu x >0 tra ve ’T ’, nguoc lai tra ve ’N’\n",
    "    if x >0 :\n",
    "        return 'T'\n",
    "    return 'N'\n",
    "\n",
    "def my_function (data) :\n",
    "    res = [ function_helper ( x ) for x in data ]\n",
    "    return res\n",
    "\n",
    "data = [10 , 0 , -10 , -1]\n",
    "assert my_function ( data ) == ['T', 'N', 'N', 'N']\n",
    "\n",
    "data = [2 , 3 , 5 , -1]\n",
    "print ( my_function ( data ) )"
   ]
  },
  {
   "cell_type": "markdown",
   "metadata": {},
   "source": [
    "### Câu 16 Hoàn thành chương trình"
   ]
  },
  {
   "cell_type": "code",
   "execution_count": null,
   "metadata": {},
   "outputs": [
    {
     "name": "stdout",
     "output_type": "stream",
     "text": [
      "[9, 8, 1]\n"
     ]
    }
   ],
   "source": [
    "def function_helper (x , data ) :\n",
    "    for i in data :\n",
    "# Your code here\n",
    "# Neu x == i thi return 0\n",
    "        if x== i:\n",
    "            return 0\n",
    "    return 1\n",
    "\n",
    "def my_function ( data ) :\n",
    "    res = []\n",
    "    for i in data :\n",
    "        if function_helper (i , res ) :\n",
    "            res .append ( i )\n",
    "\n",
    "    return res\n",
    "\n",
    "lst = [10 , 10 , 9 , 7 , 7]\n",
    "assert my_function ( lst ) ==[10 , 9 , 7]\n",
    "\n",
    "lst = [9 , 9 , 8 , 1 , 1]\n",
    "print ( my_function ( lst ) )"
   ]
  }
 ],
 "metadata": {
  "kernelspec": {
   "display_name": "torch",
   "language": "python",
   "name": "torch"
  },
  "language_info": {
   "codemirror_mode": {
    "name": "ipython",
    "version": 3
   },
   "file_extension": ".py",
   "mimetype": "text/x-python",
   "name": "python",
   "nbconvert_exporter": "python",
   "pygments_lexer": "ipython3",
   "version": "3.9.18"
  }
 },
 "nbformat": 4,
 "nbformat_minor": 2
}
