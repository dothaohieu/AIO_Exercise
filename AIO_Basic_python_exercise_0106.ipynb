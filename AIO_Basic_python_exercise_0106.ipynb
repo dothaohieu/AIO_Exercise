{
 "cells": [
  {
   "cell_type": "markdown",
   "id": "4e9421fe",
   "metadata": {},
   "source": [
    "# Exercise 1"
   ]
  },
  {
   "cell_type": "code",
   "execution_count": null,
   "id": "22057f8e",
   "metadata": {},
   "outputs": [],
   "source": [
    "def exercise1(tp, fp, fn):\n",
    "    if type(tp) != int:\n",
    "        print(\"tp must be int\")\n",
    "    elif type(fp) != int:\n",
    "        print(\"fp must be int\")\n",
    "    elif type(fn) != int:\n",
    "        print(\"fn must be int\")\n",
    "    else:\n",
    "        if tp<= 0 or fp<= 0 or fn<= 0 :\n",
    "            print(\"tp and fp and fn must be greater than zero\")\n",
    "        else:\n",
    "            pre = tp/(tp+fp)\n",
    "            recall = tp/(tp+fn)\n",
    "            f1 = 2*(pre*recall)/(pre+recall)\n",
    "            print(f'precision is {pre}')\n",
    "            print(f'recall is {recall}')            \n",
    "            print(f'f1-score is {f1}')            "
   ]
  },
  {
   "cell_type": "code",
   "execution_count": null,
   "id": "565df1cb",
   "metadata": {},
   "outputs": [
    {
     "name": "stdout",
     "output_type": "stream",
     "text": [
      "False\n"
     ]
    }
   ],
   "source": [
    "print(False)"
   ]
  },
  {
   "cell_type": "code",
   "execution_count": null,
   "id": "662b8d6c",
   "metadata": {},
   "outputs": [
    {
     "name": "stdout",
     "output_type": "stream",
     "text": [
      "precision is 0.4\n",
      "recall is 0.3333333333333333\n",
      "f1-score is 0.3636363636363636\n"
     ]
    }
   ],
   "source": [
    "exercise1(2,3,4)"
   ]
  },
  {
   "cell_type": "markdown",
   "id": "b83e556f",
   "metadata": {},
   "source": [
    "# Exercise 2\n"
   ]
  },
  {
   "cell_type": "code",
   "execution_count": 11,
   "id": "4a185d35",
   "metadata": {},
   "outputs": [],
   "source": [
    "def is_number(n):\n",
    "    try:\n",
    "        float(n) # Type - casting the string to ‘float ‘.\n",
    "    # If string is not a valid ‘float ‘ ,\n",
    "    # it ’ll raise ‘ValueError ‘ exception\n",
    "    except ValueError :\n",
    "        return False\n",
    "    return True\n",
    "import math\n",
    "def sigmoid(n):\n",
    "    return 1/(1+(math.e)**(-float(n)))\n",
    "def relu(n):\n",
    "    return 0 if float(n) <= 0 else float(n)\n",
    "def elu(n):\n",
    "    return 0.01*(math.e**float(n)-1) if float(n) <= 0 else float(n)\n",
    "def excercise2():\n",
    "    n = input(\"Input x = \")\n",
    "    if is_number(n):\n",
    "        activate = input(\"Input activation Function ( sigmoid | relu | elu ) : \")\n",
    "        if activate == \"sigmoid\":\n",
    "            result = sigmoid(n)\n",
    "            print(\"sigmoid : f({}) = {}\".format(n,result))\n",
    "        elif activate == \"sigmoid\":\n",
    "            result = relu(n)\n",
    "            print(\"relu : f({}) = {}\".format(n,result))\n",
    "        elif activate == \"elu\":\n",
    "            result = elu(n)\n",
    "            print(\"elu : f({}) = {}\".format(n,result))\n",
    "        else:\n",
    "            print(f'{activate} is not supported')\n",
    "    else:\n",
    "        print(f'x must be a number')\n"
   ]
  },
  {
   "cell_type": "code",
   "execution_count": 18,
   "id": "7126b818",
   "metadata": {},
   "outputs": [
    {
     "data": {
      "text/plain": [
       "0.95"
      ]
     },
     "execution_count": 18,
     "metadata": {},
     "output_type": "execute_result"
    }
   ],
   "source": [
    "round(sigmoid(3),2)"
   ]
  },
  {
   "cell_type": "markdown",
   "id": "6b1f4da6",
   "metadata": {},
   "source": [
    "# Exercise 3\n"
   ]
  },
  {
   "cell_type": "code",
   "execution_count": 41,
   "id": "3ed93fdc",
   "metadata": {},
   "outputs": [],
   "source": [
    "def mae(pred, target):\n",
    "    return abs(pred-target)\n",
    "def mse(pred, target):\n",
    "    return (pred-target)**2\n",
    "def rmse(pred, target):\n",
    "    return mse(pred,target)\n",
    "import random\n",
    "def exercise3():\n",
    "    num_samples = input(\"Input number of samples ( integer number ) which are generated : \")\n",
    "    if num_samples.isnumeric():\n",
    "        final = 0\n",
    "        loss = input(\"Input loss name : \")\n",
    "        for i in range(int(num_samples)):\n",
    "            pred = random.uniform(0,10)\n",
    "            target = random.uniform(0,10)\n",
    "            if loss == \"MAE\":\n",
    "                res = mae(pred,target)\n",
    "                final += res\n",
    "                print(f'loss name : {loss}, sample : {i}, pred : {pred}, target : {target}, loss : {res}')\n",
    "            elif loss == \"MSE\":\n",
    "                res = mse(pred,target)\n",
    "                final += res\n",
    "                print(f'loss name : {loss}, sample : {i}, pred : {pred}, target : {target}, loss : {res}')\n",
    "            elif loss == \"RMSE\":\n",
    "                res = rmse(pred,target)\n",
    "                print(f'loss name : {loss}, sample : {i}, pred : {pred}, target : {target}, loss : {res}')\n",
    "        f = final/float(num_samples)\n",
    "        print(f'final {loss} : {f}')\n",
    "                \n",
    "    else:\n",
    "        print(\"number of samples must be an integer number\")"
   ]
  },
  {
   "cell_type": "code",
   "execution_count": 42,
   "id": "c52bbec0",
   "metadata": {},
   "outputs": [
    {
     "name": "stdout",
     "output_type": "stream",
     "text": [
      "Input number of samples ( integer number ) which are generated : 5\n",
      "Input loss name : MAE\n",
      "loss name : MAE, sample : 0, pred : 6.204541093273458, target : 1.2837640328736166, loss : 4.920777060399842\n",
      "loss name : MAE, sample : 1, pred : 9.240643986004105, target : 6.529860402843242, loss : 2.7107835831608638\n",
      "loss name : MAE, sample : 2, pred : 5.43560732269324, target : 6.280575847254317, loss : 0.844968524561077\n",
      "loss name : MAE, sample : 3, pred : 5.872875489081677, target : 1.199332716175926, loss : 4.673542772905751\n",
      "loss name : MAE, sample : 4, pred : 8.241930982388094, target : 4.1149748050094095, loss : 4.126956177378685\n",
      "final MAE : 3.4554056236812434\n"
     ]
    }
   ],
   "source": [
    "exercise3()"
   ]
  },
  {
   "cell_type": "markdown",
   "id": "c79ba60d",
   "metadata": {},
   "source": [
    "# Exercise 4"
   ]
  },
  {
   "cell_type": "code",
   "execution_count": 20,
   "id": "00f8cbf5",
   "metadata": {},
   "outputs": [],
   "source": [
    "def factorial(n):\n",
    "    s = 1\n",
    "    for i in range(1,n+1):\n",
    "        s=s*i\n",
    "    return s\n",
    "def approx_sin(x, n):\n",
    "    res = x\n",
    "    for i in range(1,n+1):\n",
    "        t = (-1)**i*x**(2*i+1)/factorial(2*i+1)\n",
    "        res += t\n",
    "    return res\n",
    "def approx_cos(x, n):\n",
    "    res = 1\n",
    "    for i in range(1,n+1):\n",
    "        t = (-1)**i*x**(2*i)/factorial(2*i)\n",
    "        res += t\n",
    "    return res\n",
    "def approx_sinh(x, n):\n",
    "    res = x\n",
    "    for i in range(1,n+1):\n",
    "        t = x**(2*i+1)/factorial(2*i+1)\n",
    "        res += t\n",
    "    return res\n",
    "def approx_cosh(x, n):\n",
    "    res = 1\n",
    "    for i in range(1,n+1):\n",
    "        t = x**(2*i)/factorial(2*i)\n",
    "        res += t\n",
    "    return res\n"
   ]
  },
  {
   "cell_type": "code",
   "execution_count": 25,
   "id": "1de62f5f",
   "metadata": {},
   "outputs": [
    {
     "name": "stdout",
     "output_type": "stream",
     "text": [
      "-0.9999987316527259\n",
      "11.573574828234543\n",
      "0.0016\n",
      "11.53029203039954\n"
     ]
    }
   ],
   "source": [
    "print(approx_cos(3.14, 10))\n",
    "print(approx_cosh(3.14, 10))\n",
    "print(round(approx_sin(3.14, 10),4))\n",
    "print(approx_sinh(3.14, 10))"
   ]
  },
  {
   "cell_type": "code",
   "execution_count": 28,
   "id": "7dad7269",
   "metadata": {},
   "outputs": [
    {
     "name": "stdout",
     "output_type": "stream",
     "text": [
      "11.57\n"
     ]
    }
   ],
   "source": [
    "print ( round ( approx_cosh ( x =3.14 , n =10) , 2) )"
   ]
  },
  {
   "cell_type": "markdown",
   "id": "9f3671c4",
   "metadata": {},
   "source": [
    "# Excercise 5\n"
   ]
  },
  {
   "cell_type": "code",
   "execution_count": 1,
   "id": "4c7de947",
   "metadata": {},
   "outputs": [],
   "source": [
    "def md_nre_single_sample(pred, target, n, p):\n",
    "    return (pred**(1/n) - target**(1/n))**p"
   ]
  },
  {
   "cell_type": "code",
   "execution_count": 3,
   "id": "cfb2e608",
   "metadata": {},
   "outputs": [
    {
     "data": {
      "text/plain": [
       "0.12917130661302934"
      ]
     },
     "execution_count": 3,
     "metadata": {},
     "output_type": "execute_result"
    }
   ],
   "source": [
    "md_nre_single_sample(4,3.5,2,1)"
   ]
  },
  {
   "cell_type": "code",
   "execution_count": null,
   "id": "cd8bb573",
   "metadata": {},
   "outputs": [],
   "source": []
  }
 ],
 "metadata": {
  "kernelspec": {
   "display_name": "Python 3 (ipykernel)",
   "language": "python",
   "name": "python3"
  },
  "language_info": {
   "codemirror_mode": {
    "name": "ipython",
    "version": 3
   },
   "file_extension": ".py",
   "mimetype": "text/x-python",
   "name": "python",
   "nbconvert_exporter": "python",
   "pygments_lexer": "ipython3",
   "version": "3.11.5"
  }
 },
 "nbformat": 4,
 "nbformat_minor": 5
}
