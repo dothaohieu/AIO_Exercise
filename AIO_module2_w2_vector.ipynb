{
 "cells": [
  {
   "cell_type": "code",
   "execution_count": 15,
   "metadata": {},
   "outputs": [],
   "source": [
    "import numpy as np \n",
    "def compute_vector_length(vector):\n",
    "    len_of_vector = np.linalg.norm(vector)\n",
    "    return len_of_vector"
   ]
  },
  {
   "cell_type": "code",
   "execution_count": 28,
   "metadata": {},
   "outputs": [],
   "source": [
    "def compute_dot_product(vector1, vector2):\n",
    "    result = np.dot(vector1, vector2)\n",
    "    return result"
   ]
  },
  {
   "cell_type": "code",
   "execution_count": 57,
   "metadata": {},
   "outputs": [],
   "source": [
    "def matrix_multi_vector(matrix , vector):\n",
    "    result = np.dot(matrix, vector)\n",
    "    return result"
   ]
  },
  {
   "cell_type": "code",
   "execution_count": 33,
   "metadata": {},
   "outputs": [],
   "source": [
    "def matrix_multi_matrix(matrix1, matrix2):\n",
    "    result = matrix1@matrix2\n",
    "    return result"
   ]
  },
  {
   "cell_type": "markdown",
   "metadata": {},
   "source": [
    "A = [[-2,6],[8,-4]] => det(A) = -40 => A^(-1) = [[0.1, 0.15],[0.2, 0.05]]"
   ]
  },
  {
   "cell_type": "code",
   "execution_count": 35,
   "metadata": {},
   "outputs": [],
   "source": [
    "def inverse_matrix(matrix):\n",
    "    result = np.linalg.inv(matrix)\n",
    "    return result"
   ]
  },
  {
   "cell_type": "markdown",
   "metadata": {},
   "source": [
    "A = [[0.9,0.2], [0.1,0.8]], A - lI = [[0.9-l,0.2],[0.1, 0.8-l]] => det(A - lI) = (0.9-l)(0.8-l) - 0.02 = 0 => l = 1 and 0.7"
   ]
  },
  {
   "cell_type": "code",
   "execution_count": 37,
   "metadata": {},
   "outputs": [],
   "source": [
    "def compute_eigenvalues_eigenvectors(matrix):\n",
    "    eigenvalues, eigenvectors = np.linalg.eig(matrix)\n",
    "    return eigenvalues, eigenvectors"
   ]
  },
  {
   "cell_type": "code",
   "execution_count": 44,
   "metadata": {},
   "outputs": [
    {
     "data": {
      "text/plain": [
       "(array([1. , 0.7]),\n",
       " array([[ 0.89442719, -0.70710678],\n",
       "        [ 0.4472136 ,  0.70710678]]))"
      ]
     },
     "execution_count": 44,
     "metadata": {},
     "output_type": "execute_result"
    }
   ],
   "source": [
    "A = np.array([[0.9,0.2], [0.1,0.8]])\n",
    "compute_eigenvalues_eigenvectors(A)\n"
   ]
  },
  {
   "cell_type": "markdown",
   "metadata": {},
   "source": [
    "x = [1,2,3,4]\n",
    "y = [1,0,3,0]\n",
    "=> xy = 10\n",
    "len(x) = 5.477\n",
    "len(y) = 3.162\n",
    "=> cs(x,y) = 0.5773"
   ]
  },
  {
   "cell_type": "code",
   "execution_count": 45,
   "metadata": {},
   "outputs": [],
   "source": [
    "def compute_cosine(v1, v2):\n",
    "    cos_sim = compute_dot_product(v1,v2)/(compute_vector_length(v1)*compute_vector_length(v2))\n",
    "    return cos_sim"
   ]
  },
  {
   "cell_type": "code",
   "execution_count": 50,
   "metadata": {},
   "outputs": [
    {
     "data": {
      "text/plain": [
       "0.5773502691896257"
      ]
     },
     "execution_count": 50,
     "metadata": {},
     "output_type": "execute_result"
    }
   ],
   "source": [
    "x = [1,2,3,4]\n",
    "y = [1,0,3,0]\n",
    "compute_cosine(x,y)"
   ]
  },
  {
   "cell_type": "code",
   "execution_count": 1,
   "metadata": {},
   "outputs": [],
   "source": [
    "import cv2\n",
    "def compute_difference(bg_img, input_img): \n",
    "    difference_three_channel = cv2.absdiff(bg_img, input_img) \n",
    "    difference_single_channel = np.sum(difference_three_channel, axis=2) / 3.0 \n",
    "    difference_single_channel = difference_single_channel.astype('uint8')"
   ]
  },
  {
   "cell_type": "code",
   "execution_count": 2,
   "metadata": {},
   "outputs": [],
   "source": [
    "def compute_binary_mask(difference_single_channel): \n",
    "    difference_binary = np.where(difference_single_channel >= 15, 255, 0) \n",
    "    difference_binary = np.stack((difference_binary,)*3, axis=-1) \n",
    "    return difference_binary\n",
    "\n"
   ]
  },
  {
   "cell_type": "markdown",
   "metadata": {},
   "source": [
    "# Trac nghiem"
   ]
  },
  {
   "cell_type": "markdown",
   "metadata": {},
   "source": [
    "1.d <br>\n",
    "2.b <br>\n",
    "3.a <br>\n",
    "4.b <br>\n",
    "5.a <br>\n",
    "6.c <br>\n",
    "7.a <br>\n",
    "8.d <br>\n",
    "9.b <br>\n",
    "10.b <br>\n",
    "11.a <br>\n",
    "12.c <br>\n",
    "\n"
   ]
  }
 ],
 "metadata": {
  "kernelspec": {
   "display_name": "assignment2",
   "language": "python",
   "name": "python3"
  },
  "language_info": {
   "codemirror_mode": {
    "name": "ipython",
    "version": 3
   },
   "file_extension": ".py",
   "mimetype": "text/x-python",
   "name": "python",
   "nbconvert_exporter": "python",
   "pygments_lexer": "ipython3",
   "version": "3.9.19"
  }
 },
 "nbformat": 4,
 "nbformat_minor": 2
}
