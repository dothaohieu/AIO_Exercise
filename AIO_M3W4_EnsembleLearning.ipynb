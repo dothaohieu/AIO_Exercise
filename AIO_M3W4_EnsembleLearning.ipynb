{
  "nbformat": 4,
  "nbformat_minor": 0,
  "metadata": {
    "colab": {
      "provenance": []
    },
    "kernelspec": {
      "name": "python3",
      "display_name": "Python 3"
    },
    "language_info": {
      "name": "python"
    }
  },
  "cells": [
    {
      "cell_type": "code",
      "execution_count": 2,
      "metadata": {
        "colab": {
          "base_uri": "https://localhost:8080/"
        },
        "id": "PyqqMNsUBZBM",
        "outputId": "9059a302-73be-452d-e373-005d14edaa56"
      },
      "outputs": [
        {
          "output_type": "stream",
          "name": "stdout",
          "text": [
            "['mainroad', 'guestroom', 'basement', 'hotwaterheating', 'airconditioning', 'prefarea', 'furnishingstatus']\n",
            "Random Forest Evaluation results on validation set:\n",
            "Mean Absolute Error: 0.46093873321571177\n",
            "Mean Squared Error: 0.37944418523089524\n",
            "AdaBoost Evaluation results on validation set:\n",
            "Mean Absolute Error: 0.567680019897059\n",
            "Mean Squared Error: 0.5739244030038942\n",
            "Gradient Boosting Evaluation results on validation set:\n",
            "Mean Absolute Error: 0.4516626127750995\n",
            "Mean Squared Error: 0.39610445936979427\n"
          ]
        }
      ],
      "source": [
        "# Import thư viện cần thiết\n",
        "import numpy as np\n",
        "import pandas as pd\n",
        "import matplotlib.pyplot as plt\n",
        "from sklearn.tree import DecisionTreeRegressor\n",
        "from sklearn.ensemble import RandomForestRegressor\n",
        "from sklearn.preprocessing import OrdinalEncoder, StandardScaler\n",
        "from sklearn.model_selection import train_test_split\n",
        "from sklearn.metrics import mean_absolute_error, mean_squared_error\n",
        "\n",
        "# Tải và đọc bộ dữ liệu\n",
        "dataset_path = '/content/Housing.csv'\n",
        "df = pd.read_csv(dataset_path)\n",
        "\n",
        "# Xử lý dữ liệu categorical\n",
        "categorical_cols = df.select_dtypes(include=['object']).columns.to_list()\n",
        "print(categorical_cols)\n",
        "\n",
        "# Chuyển đổi dữ liệu categorical thành dạng số\n",
        "encoder = OrdinalEncoder()\n",
        "encoded_categorical_df = encoder.fit_transform(df[categorical_cols])\n",
        "numerical_df = df.drop(columns=categorical_cols)\n",
        "encoded_df = pd.concat([numerical_df, pd.DataFrame(encoded_categorical_df, columns=categorical_cols)], axis=1)\n",
        "\n",
        "# Chuẩn hóa bộ dữ liệu\n",
        "normalizer = StandardScaler()\n",
        "dataset_arr = normalizer.fit_transform(encoded_df)\n",
        "\n",
        "# Tách dữ liệu X, y\n",
        "X, y = dataset_arr[:, 1:], dataset_arr[:, 0]\n",
        "\n",
        "# Chia tập dữ liệu train, val\n",
        "test_size = 0.3\n",
        "random_state = 1\n",
        "is_shuffle = True\n",
        "X_train, X_val, y_train, y_val = train_test_split(X, y, test_size=test_size, random_state=random_state, shuffle=is_shuffle)\n",
        "\n",
        "# Huấn luyện mô hình Random Forest\n",
        "regressor_rf = RandomForestRegressor(random_state=random_state)\n",
        "regressor_rf.fit(X_train, y_train)\n",
        "\n",
        "# Huấn luyện mô hình AdaBoost\n",
        "from sklearn.ensemble import AdaBoostRegressor\n",
        "regressor_ab = AdaBoostRegressor(random_state=random_state)\n",
        "regressor_ab.fit(X_train, y_train)\n",
        "\n",
        "# Huấn luyện mô hình Gradient Boosting\n",
        "from sklearn.ensemble import GradientBoostingRegressor\n",
        "regressor_gb = GradientBoostingRegressor(random_state=random_state)\n",
        "regressor_gb.fit(X_train, y_train)\n",
        "\n",
        "# Đánh giá mô hình\n",
        "y_pred_rf = regressor_rf.predict(X_val)\n",
        "y_pred_ab = regressor_ab.predict(X_val)\n",
        "y_pred_gb = regressor_gb.predict(X_val)\n",
        "\n",
        "# Tính toán MAE và MSE cho Random Forest\n",
        "mae_rf = mean_absolute_error(y_val, y_pred_rf)\n",
        "mse_rf = mean_squared_error(y_val, y_pred_rf)\n",
        "print('Random Forest Evaluation results on validation set:')\n",
        "print(f'Mean Absolute Error: {mae_rf}')\n",
        "print(f'Mean Squared Error: {mse_rf}')\n",
        "\n",
        "# Tính toán MAE và MSE cho AdaBoost\n",
        "mae_ab = mean_absolute_error(y_val, y_pred_ab)\n",
        "mse_ab = mean_squared_error(y_val, y_pred_ab)\n",
        "print('AdaBoost Evaluation results on validation set:')\n",
        "print(f'Mean Absolute Error: {mae_ab}')\n",
        "print(f'Mean Squared Error: {mse_ab}')\n",
        "\n",
        "# Tính toán MAE và MSE cho Gradient Boosting\n",
        "mae_gb = mean_absolute_error(y_val, y_pred_gb)\n",
        "mse_gb = mean_squared_error(y_val, y_pred_gb)\n",
        "print('Gradient Boosting Evaluation results on validation set:')\n",
        "print(f'Mean Absolute Error: {mae_gb}')\n",
        "print(f'Mean Squared Error: {mse_gb}')"
      ]
    }
  ]
}