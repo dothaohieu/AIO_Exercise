{
  "nbformat": 4,
  "nbformat_minor": 0,
  "metadata": {
    "colab": {
      "provenance": []
    },
    "kernelspec": {
      "name": "python3",
      "display_name": "Python 3"
    },
    "language_info": {
      "name": "python"
    }
  },
  "cells": [
    {
      "cell_type": "markdown",
      "source": [
        "## Q1 (kỹ thuật đọc và xử lý dữ liệu từ file .csv): Cho trước file dữ liệu advertising.csv, hãy hoàn thành function prepare_data(file_name_dataset) trả về dữ liệu đã được tổ chức (X cho input và y cho output)."
      ],
      "metadata": {
        "id": "bfvYs0wUR8Ak"
      }
    },
    {
      "cell_type": "code",
      "execution_count": 1,
      "metadata": {
        "colab": {
          "base_uri": "https://localhost:8080/"
        },
        "id": "JmvoeIG0RPzD",
        "outputId": "28d2eb7f-9710-47bf-bcf5-e48c77ff88f2"
      },
      "outputs": [
        {
          "output_type": "stream",
          "name": "stdout",
          "text": [
            "[624.1, 175.10000000000002, 300.5, 78.9]\n"
          ]
        }
      ],
      "source": [
        "import numpy as np\n",
        "import matplotlib . pyplot as plt\n",
        "import random\n",
        "def get_column ( data , index ) :\n",
        "# your code here ****************************\n",
        "  result= [row[index] for row in data]\n",
        "  return result\n",
        "\n",
        "def prepare_data(file_name_dataset):\n",
        "    data = np.genfromtxt(file_name_dataset, delimiter=',', skip_header=1).tolist()\n",
        "\n",
        "    # Lấy dữ liệu TV (index = 0)\n",
        "    tv_data = get_column(data, 0)\n",
        "\n",
        "    # Lấy dữ liệu Radio (index = 1)\n",
        "    radio_data = get_column(data, 1)\n",
        "\n",
        "    # Lấy dữ liệu Newspaper (index = 2)\n",
        "    newspaper_data = get_column(data, 2)\n",
        "\n",
        "    # Lấy dữ liệu Sales (index = 3)\n",
        "    sales_data = get_column(data, 3)\n",
        "\n",
        "    # Xây dựng X input và y output cho training\n",
        "    X = [tv_data, radio_data, newspaper_data]\n",
        "    y = sales_data\n",
        "\n",
        "    return X, y\n",
        "\n",
        "X , y = prepare_data ('/content/advertising.csv')\n",
        "list = [ sum ( X [0][:5]) , sum ( X [1][:5]) , sum ( X [2][:5]) , sum ( y [:5]) ]\n",
        "print ( list )"
      ]
    },
    {
      "cell_type": "markdown",
      "source": [
        "## Q2 (kỹ thuật huấn luyện data dùng one sample - linear regression): Sử dụng kết quả dữ liệu đầu vào X, và dữ liệu đầu ra y từ bài 1, để phát triển chương trình dự đoán thông tin sales (y) từ X bằng cách dùng giải thuật linear regression with one sample-training với loss được tính bằng công thức Mean Squared Error L = (ˆy − y)2. Sơ đồ hoạt động của giải thuật được mô tả ở hình 2. Nhiệm vụ củabạn là hoàn thành function implement_linear_regression(X_data, y_data, epoch_max, lr)và trả về 4 tham số w1, w2, w3, b và lịch sử tính loss như bên dưới."
      ],
      "metadata": {
        "id": "WCGuXsnsSwgd"
      }
    },
    {
      "cell_type": "code",
      "source": [
        "import random\n",
        "\n",
        "def initialize_params():\n",
        "    # Khởi tạo tham số cố định\n",
        "    w1, w2, w3, b = (0.016992259082509283, 0.0070783670518262355, -0.002307860847821344, 0)\n",
        "    return w1, w2, w3, b\n",
        "\n",
        "def predict(x1, x2, x3, w1, w2, w3, b):\n",
        "    # Tính toán giá trị dự đoán\n",
        "    return w1 * x1 + w2 * x2 + w3 * x3 + b\n",
        "\n",
        "def compute_gradient_wi(xi, y, y_hat):\n",
        "    # Tính gradient theo wi\n",
        "    return 2 * (y_hat - y) * xi\n",
        "\n",
        "def compute_gradient_b(y, y_hat):\n",
        "    # Tính gradient theo b\n",
        "    return 2 * (y_hat - y)\n",
        "\n",
        "def update_weight_wi(wi, gradient, lr):\n",
        "    # Cập nhật trọng số wi\n",
        "    return wi - lr * gradient\n",
        "\n",
        "def update_weight_b(b, gradient, lr):\n",
        "    # Cập nhật bias b\n",
        "    return b - lr * gradient\n",
        "\n",
        "def implement_linear_regression(X_data, y_data, epoch_max=50, lr=1e-5):\n",
        "    # Khởi tạo tham số\n",
        "    w1, w2, w3, b = initialize_params()\n",
        "    losses = []\n",
        "\n",
        "    for epoch in range(epoch_max):\n",
        "        for i in range(len(y_data)):\n",
        "            x1, x2, x3 = X_data[0][i], X_data[1][i], X_data[2][i]\n",
        "            y = y_data[i]\n",
        "\n",
        "            # Dự đoán\n",
        "            y_hat = predict(x1, x2, x3, w1, w2, w3, b)\n",
        "\n",
        "            # Tính toán loss\n",
        "            loss = (y_hat - y) ** 2\n",
        "\n",
        "            # Tính gradient\n",
        "            dl_dw1 = compute_gradient_wi(x1, y, y_hat)\n",
        "            dl_dw2 = compute_gradient_wi(x2, y, y_hat)\n",
        "            dl_dw3 = compute_gradient_wi(x3, y, y_hat)\n",
        "            dl_db = compute_gradient_b(y, y_hat)\n",
        "\n",
        "            # Cập nhật tham số\n",
        "            w1 = update_weight_wi(w1, dl_dw1, lr)\n",
        "            w2 = update_weight_wi(w2, dl_dw2, lr)\n",
        "            w3 = update_weight_wi(w3, dl_dw3, lr)\n",
        "            b = update_weight_b(b, dl_db, lr)\n",
        "\n",
        "            # Ghi lại loss\n",
        "            losses.append(loss)\n",
        "\n",
        "    return w1, w2, w3, b, losses\n",
        "\n",
        "y = predict ( x1 =1 , x2 =1 , x3 =1 , w1 =0 , w2 =0.5 , w3 =0 , b =0.5)\n",
        "print(y)"
      ],
      "metadata": {
        "colab": {
          "base_uri": "https://localhost:8080/"
        },
        "id": "9hPdvbHeTATJ",
        "outputId": "51d8906b-5394-4a3f-8cb9-b2f6e0875f83"
      },
      "execution_count": 3,
      "outputs": [
        {
          "output_type": "stream",
          "name": "stdout",
          "text": [
            "1.0\n"
          ]
        }
      ]
    },
    {
      "cell_type": "markdown",
      "source": [
        "##Q3: Hoàn thành function compute_loss(y_hat, y) để tính loss giữa kết quả dự đoán y_hat và giá trị thực y, sử dụng Mean Squared Error"
      ],
      "metadata": {
        "id": "ml4KzqeyT5N_"
      }
    },
    {
      "cell_type": "code",
      "source": [
        "def compute_loss(y_hat, y):\n",
        "    # Tính toán loss sử dụng Mean Squared Error\n",
        "    loss = (y_hat - y) ** 2\n",
        "    return loss\n",
        "\n",
        "# Ví dụ sử dụng\n",
        "l = compute_loss(y_hat=1, y=0.5)\n",
        "print(l)"
      ],
      "metadata": {
        "colab": {
          "base_uri": "https://localhost:8080/"
        },
        "id": "NyftUO8lUGZd",
        "outputId": "fa9b6b8b-a1fb-4182-921b-fc22af8914df"
      },
      "execution_count": 4,
      "outputs": [
        {
          "output_type": "stream",
          "name": "stdout",
          "text": [
            "0.25\n"
          ]
        }
      ]
    },
    {
      "cell_type": "markdown",
      "source": [
        "## Q4 + Q5:Hoàn thành function compute_gradient_wi(xi, y, y_hat)) để tính đạo hàm của hàm loss L = (ˆy − y)2 theo wi và function compute_gradient_b(y, y_hat) để tính đạo hàm của hàm loss L= (ˆy − y)2 theo b."
      ],
      "metadata": {
        "id": "CgGx8BuiUtBu"
      }
    },
    {
      "cell_type": "code",
      "source": [
        "def compute_gradient_wi(xi, y, y_hat):\n",
        "    # Tính gradient theo wi\n",
        "    dl_dwi = 2 * (y_hat - y) * xi\n",
        "    return dl_dwi\n",
        "def compute_gradient_b(y, y_hat):\n",
        "    # Tính gradient theo b\n",
        "    dl_db = 2 * (y_hat - y)\n",
        "    return dl_db\n",
        "\n",
        "# MSE loss\n",
        "g_wi = compute_gradient_wi ( xi =1.0 , y =1.0 , y_hat =0.5)\n",
        "print(g_wi)\n",
        "\n",
        "g_b = compute_gradient_b ( y =2.0 , y_hat =0.5)\n",
        "print(g_b)"
      ],
      "metadata": {
        "colab": {
          "base_uri": "https://localhost:8080/"
        },
        "id": "nM2cNxVXU9De",
        "outputId": "5d8c913d-1568-46d1-e5e9-0c0e0d0d47bb"
      },
      "execution_count": 7,
      "outputs": [
        {
          "output_type": "stream",
          "name": "stdout",
          "text": [
            "-1.0\n",
            "-3.0\n"
          ]
        }
      ]
    },
    {
      "cell_type": "markdown",
      "source": [
        "## Q6 + Q7: Hoàn thành function update_weight_wi(wi, dl_dwi, lr) để cập nhật wi sau khi tính đạo làm hàm loss L theo wi, và function update_weight_b(b, dl_db, lr) để update bias (b) sau khi tính đạo làm hàm loss L theo b."
      ],
      "metadata": {
        "id": "oD6kcDA9Vzw-"
      }
    },
    {
      "cell_type": "code",
      "source": [
        "def update_weight_wi(wi, dl_dwi, lr):\n",
        "    # Cập nhật trọng số wi\n",
        "    wi = wi - lr * dl_dwi\n",
        "    return wi\n",
        "\n",
        "def update_weight_b(b, dl_db, lr):\n",
        "    # Cập nhật bias b\n",
        "    b = b - lr * dl_db\n",
        "    return b\n",
        "\n",
        "after_wi=update_weight_wi( wi =1.0 , dl_dwi = -0.5 , lr =1e-5)\n",
        "print(after_wi)\n",
        "after_b = update_weight_b( b =0.5 , dl_db = -1.0 , lr =1e-5)\n",
        "print(after_b)\n",
        "print(after_wi)"
      ],
      "metadata": {
        "colab": {
          "base_uri": "https://localhost:8080/"
        },
        "id": "zh02-PvuV7Ai",
        "outputId": "d1d7d264-5474-47da-eb64-7ea8e0601a8d"
      },
      "execution_count": 12,
      "outputs": [
        {
          "output_type": "stream",
          "name": "stdout",
          "text": [
            "1.000005\n",
            "0.50001\n",
            "1.000005\n"
          ]
        }
      ]
    },
    {
      "cell_type": "markdown",
      "source": [
        "## Q8: Thực hiện huấn luyện data bằng cách gọi hàm implement_linear_regression(X, y) và vẽđồ thị kết quả cho 100 giá trị loss đầu tiên (loss cho 100 lần cập nhật đầu tiên)"
      ],
      "metadata": {
        "id": "M8gqAqBYXARM"
      }
    },
    {
      "cell_type": "code",
      "source": [
        "import pandas as pd\n",
        "import matplotlib.pyplot as plt\n",
        "from sklearn.preprocessing import StandardScaler\n",
        "\n",
        "# def prepare_data(file_path):\n",
        "#     data = pd.read_csv(file_path)\n",
        "#     X = data[['TV', 'Radio', 'Newspaper']].values.T\n",
        "#     y = data['Sales'].values\n",
        "#     return X, y\n",
        "def prepare_data(file_name_dataset):\n",
        "    data = np.genfromtxt(file_name_dataset, delimiter=',', skip_header=1).tolist()\n",
        "\n",
        "    # Lấy dữ liệu TV (index = 0)\n",
        "    tv_data = get_column(data, 0)\n",
        "\n",
        "    # Lấy dữ liệu Radio (index = 1)\n",
        "    radio_data = get_column(data, 1)\n",
        "\n",
        "    # Lấy dữ liệu Newspaper (index = 2)\n",
        "    newspaper_data = get_column(data, 2)\n",
        "\n",
        "    # Lấy dữ liệu Sales (index = 3)\n",
        "    sales_data = get_column(data, 3)\n",
        "\n",
        "    # Xây dựng X input và y output cho training\n",
        "    X = [tv_data, radio_data, newspaper_data]\n",
        "    y = sales_data\n",
        "\n",
        "    return X, y\n",
        "def implement_linear_regression(X_data, y_data, epoch_max=50, lr=1e-5):\n",
        "    # Khởi tạo tham số\n",
        "    w1, w2, w3, b = initialize_params()\n",
        "    losses = []\n",
        "\n",
        "    for epoch in range(epoch_max):\n",
        "        for i in range(len(y_data)):\n",
        "            x1, x2, x3 = X_data[0][i], X_data[1][i], X_data[2][i]\n",
        "            y = y_data[i]\n",
        "\n",
        "            # Dự đoán\n",
        "            y_hat = predict(x1, x2, x3, w1, w2, w3, b)\n",
        "\n",
        "            # Tính toán loss\n",
        "            loss = (y_hat - y) ** 2\n",
        "\n",
        "            # Tính gradient\n",
        "            dl_dw1 = compute_gradient_wi(x1, y, y_hat)\n",
        "            dl_dw2 = compute_gradient_wi(x2, y, y_hat)\n",
        "            dl_dw3 = compute_gradient_wi(x3, y, y_hat)\n",
        "            dl_db = compute_gradient_b(y, y_hat)\n",
        "\n",
        "            # Cập nhật tham số\n",
        "            w1 = update_weight_wi(w1, dl_dw1, lr)\n",
        "            w2 = update_weight_wi(w2, dl_dw2, lr)\n",
        "            w3 = update_weight_wi(w3, dl_dw3, lr)\n",
        "            b = update_weight_b(b, dl_db, lr)\n",
        "\n",
        "            # Ghi lại loss\n",
        "            losses.append(loss)\n",
        "\n",
        "    return w1, w2, w3, b, losses\n",
        "\n",
        "X , y = prepare_data ('/content/advertising.csv')\n",
        "\n",
        "w1, w2, w3, b, losses = implement_linear_regression(X, y)\n",
        "\n",
        "plt.plot(losses[:100])\n",
        "plt.xlabel(\"# iteration\")\n",
        "plt.ylabel(\"Loss\")\n",
        "plt.show()\n",
        "\n",
        "print(w1, w2, w3)"
      ],
      "metadata": {
        "colab": {
          "base_uri": "https://localhost:8080/",
          "height": 467
        },
        "id": "dy0aIcenXHG5",
        "outputId": "18bfd514-9b6b-4031-879c-efe122eedc94"
      },
      "execution_count": 22,
      "outputs": [
        {
          "output_type": "display_data",
          "data": {
            "text/plain": [
              "<Figure size 640x480 with 1 Axes>"
            ],
            "image/png": "[encoded data removed]"
          },
          "metadata": {}
        },
        {
          "output_type": "stream",
          "name": "stdout",
          "text": [
            "0.07405984066396477 0.15917360263437663 0.017561197559948935\n"
          ]
        }
      ]
    },
    {
      "cell_type": "markdown",
      "source": [
        "## Q9"
      ],
      "metadata": {
        "id": "3THAjuZHbd8o"
      }
    },
    {
      "cell_type": "code",
      "source": [
        "# given new data\n",
        "tv = 19.2\n",
        "radio = 35.9\n",
        "newspaper = 51.3\n",
        "X , y = prepare_data('/content/advertising.csv')\n",
        "( w1 , w2 , w3 ,b , losses ) = implement_linear_regression (X , y , epoch_max =50 , lr =1e-5)\n",
        "sales = predict ( tv , radio , newspaper , w1 , w2 , w3 , b )\n",
        "print (f' predicted sales is { sales } ')"
      ],
      "metadata": {
        "colab": {
          "base_uri": "https://localhost:8080/"
        },
        "id": "3okyLucfbelR",
        "outputId": "cc881112-80c3-4df7-9031-c955085b9c68"
      },
      "execution_count": 24,
      "outputs": [
        {
          "output_type": "stream",
          "name": "stdout",
          "text": [
            " predicted sales is 8.176413319549823 \n"
          ]
        }
      ]
    },
    {
      "cell_type": "markdown",
      "source": [
        "## Q10: Thực hiện huấn luyện data bằng cách thay thế hàm loss L = (ˆy − y)2 bằng hàm loss MAE L =|yˆ − y| và vẽ đồ thị kết quả hàm loss trong 100 interation đầu tiên như bên hình 4."
      ],
      "metadata": {
        "id": "8f9_sjxYbzJk"
      }
    },
    {
      "cell_type": "code",
      "source": [
        "def compute_loss_mae(y_hat, y):\n",
        "    # Tính toán loss sử dụng Mean Squared Error\n",
        "    loss = abs(y_hat - y)\n",
        "    return loss\n",
        "\n",
        "# Ví dụ sử dụng\n",
        "l = compute_loss_mae(y_hat =1 , y =0.5)\n",
        "print ( l )"
      ],
      "metadata": {
        "colab": {
          "base_uri": "https://localhost:8080/"
        },
        "id": "dzIZz_ZdcGzi",
        "outputId": "371b7e4d-2b51-41cb-95a3-d820a3dbaa21"
      },
      "execution_count": 26,
      "outputs": [
        {
          "output_type": "stream",
          "name": "stdout",
          "text": [
            "0.5\n"
          ]
        }
      ]
    },
    {
      "cell_type": "markdown",
      "source": [
        "## Q11 + Q12: (kỹ thuật huấn luyện data dùng batch N samples - linear regression): Cải tiến giải thuật ở bài tập 2, bằng cách huấn luyện giải thuật linear regression sử dụng N samples-training. Công việc của bạn ở bài tập này là bạn cần implement lại function implement_linear_regression_nsamples sử dụng N sample-training với MSE loss function và MAE loss function (optional)"
      ],
      "metadata": {
        "id": "9EfBGbUFc3tv"
      }
    },
    {
      "cell_type": "code",
      "source": [
        "import numpy as np\n",
        "\n",
        "def initialize_params():\n",
        "    w1, w2, w3, b = (0.016992259082509283, 0.0070783670518262355, -0.002307860847821344, 0)\n",
        "    return w1, w2, w3, b\n",
        "\n",
        "def predict(x1, x2, x3, w1, w2, w3, b):\n",
        "    # Tính toán hàm dự đoán\n",
        "    return w1 * x1 + w2 * x2 + w3 * x3 + b\n",
        "\n",
        "def compute_loss_mse(y_hat, y):\n",
        "    # Tính toán loss sử dụng Mean Squared Error\n",
        "    loss_mse = (y_hat - y) ** 2\n",
        "    # loss_mse = np.mean((y - y_hat) ** 2)\n",
        "    return loss_mse\n",
        "# def compute_loss_mae(y_hat, y):\n",
        "#     # Tính toán loss sử dụng Mean Squared Error\n",
        "#     loss_mae = abs(y_hat - y)\n",
        "#     return loss_mae\n",
        "\n",
        "# def compute_gradient_wi(x, y, y_hat):\n",
        "#     return -2 * (y - y_hat) * x\n",
        "\n",
        "# def compute_gradient_b(y, y_hat):\n",
        "#     return -2 * (y - y_hat)\n",
        "\n",
        "def compute_gradient_wi(xi, y, y_hat):\n",
        "    # Tính gradient theo wi\n",
        "    return 2 * (y_hat - y) * xi\n",
        "\n",
        "def compute_gradient_b(y, y_hat):\n",
        "    # Tính gradient theo b\n",
        "    return 2 * (y_hat - y)\n",
        "\n",
        "def implement_linear_regression_nsamples(X_data, y_data, epoch_max=50, lr=1e-5):\n",
        "    losses = []\n",
        "    w1, w2, w3, b = initialize_params()\n",
        "    N = len(y_data)\n",
        "\n",
        "    for epoch in range(epoch_max):\n",
        "        loss_total = 0.0\n",
        "        dw1_total = 0.0\n",
        "        dw2_total = 0.0\n",
        "        dw3_total = 0.0\n",
        "        db_total = 0.0\n",
        "\n",
        "        for i in range(N):\n",
        "            # Lấy một mẫu\n",
        "            x1 = X_data[0][i]\n",
        "            x2 = X_data[1][i]\n",
        "            x3 = X_data[2][i]\n",
        "\n",
        "            y = y_data[i]\n",
        "\n",
        "            # Tính toán đầu ra\n",
        "            y_hat = predict(x1, x2, x3, w1, w2, w3, b)\n",
        "\n",
        "            # Tính toán loss\n",
        "            loss_mse = compute_loss_mse(y, y_hat)\n",
        "\n",
        "            # Cộng dồn loss\n",
        "            loss_total += loss_mse\n",
        "\n",
        "            # Tính gradient cho w1, w2, w3, b\n",
        "            dl_dw1 = compute_gradient_wi(x1, y, y_hat)\n",
        "            dl_dw2 = compute_gradient_wi(x2, y, y_hat)\n",
        "            dl_dw3 = compute_gradient_wi(x3, y, y_hat)\n",
        "            dl_db = compute_gradient_b(y, y_hat)\n",
        "\n",
        "            # Cộng dồn gradient cho w1, w2, w3, b\n",
        "            dw1_total += dl_dw1\n",
        "            dw2_total += dl_dw2\n",
        "            dw3_total += dl_dw3\n",
        "            db_total += dl_db\n",
        "\n",
        "        # Cập nhật các tham số w1, w2, w3, b sau khi xử lý N mẫu\n",
        "        w1 -= lr * dw1_total / N\n",
        "        w2 -= lr * dw2_total / N\n",
        "        w3 -= lr * dw3_total / N\n",
        "        b -= lr * db_total / N\n",
        "\n",
        "        # Ghi lại loss\n",
        "        losses.append(loss_total / N)\n",
        "\n",
        "    return w1, w2, w3, b, losses\n",
        "\n",
        "( w1,w2,w3,b,losses) = implement_linear_regression_nsamples (X , y ,epoch_max =1000 ,lr =1e-5)\n",
        "# print(losses)\n",
        "plt.plot (losses)\n",
        "plt.xlabel (\"# epoch \")\n",
        "plt.ylabel (\"MSE Loss \")\n",
        "plt.show ()\n",
        "X , y = prepare_data('/content/advertising.csv')\n",
        "# using MSE loss\n",
        "( w1,w2,w3,b,losses ) = implement_linear_regression_nsamples (X,y,epoch_max =1000 ,lr =1e-5)\n",
        "print (w1,w2,w3)\n",
        "\n",
        "# ( w1 , w2 , w3 ,b , losses ) = implement_linear_regression_nsamples (X,y,epoch_max =1000 ,lr =1 e -5)\n",
        "# print (losses)\n",
        "# plt.plot ( losses )\n",
        "# plt.xlabel (\"# epoch \")\n",
        "# plt.ylabel (\"MAE Loss \")\n",
        "# plt.show ()"
      ],
      "metadata": {
        "colab": {
          "base_uri": "https://localhost:8080/",
          "height": 467
        },
        "id": "WelaRgrsc3ZB",
        "outputId": "38f3d5ba-f78e-485d-a441-dfdce6eead2a"
      },
      "execution_count": 56,
      "outputs": [
        {
          "output_type": "display_data",
          "data": {
            "text/plain": [
              "<Figure size 640x480 with 1 Axes>"
            ],
            "image/png": "[encoded data removed]"
          },
          "metadata": {}
        },
        {
          "output_type": "stream",
          "name": "stdout",
          "text": [
            "0.06710990754044266 0.15756173831487585 0.029619799386084403\n"
          ]
        }
      ]
    },
    {
      "cell_type": "markdown",
      "source": [
        "## Q12"
      ],
      "metadata": {
        "id": "DrogMEsqnk4L"
      }
    },
    {
      "cell_type": "code",
      "source": [
        "import numpy as np\n",
        "import random\n",
        "import matplotlib.pyplot as plt\n",
        "\n",
        "def prepare_data(file_name_dataset):\n",
        "    data = np.genfromtxt(file_name_dataset, delimiter=',', skip_header=1).tolist()\n",
        "\n",
        "    def get_column(data, index):\n",
        "        return [row[index] for row in data]\n",
        "\n",
        "    # Lấy dữ liệu từ các cột\n",
        "    tv_data = get_column(data, 0)\n",
        "    radio_data = get_column(data, 1)\n",
        "    newspaper_data = get_column(data, 2)\n",
        "    sales_data = get_column(data, 3)\n",
        "\n",
        "    # Xây dựng X input và y output cho huấn luyện\n",
        "    X = [[1, x1, x2, x3] for x1, x2, x3 in zip(tv_data, radio_data, newspaper_data)]\n",
        "    y = sales_data\n",
        "    return X, y\n",
        "\n",
        "def initialize_params():\n",
        "    bias = 0\n",
        "    w1 = random.gauss(mu=0, sigma=0.01)\n",
        "    w2 = random.gauss(mu=0, sigma=0.01)\n",
        "    w3 = random.gauss(mu=0, sigma=0.01)\n",
        "    # Trả về danh sách chứa bias, w1, w2, w3\n",
        "    # return [bias, w1, w2, w3]\n",
        "    return [0 , -0.01268850433497871 , 0.004752496982185252 , 0.0073796171538643845]\n",
        "\n",
        "def predict(X_features, weights):\n",
        "    # Tính toán dự đoán y = x0*b + x1*w1 + x2*w2 + x3*w3\n",
        "    result = sum(x * w for x, w in zip(X_features, weights))\n",
        "    return result\n",
        "\n",
        "def compute_loss(y_hat, y):\n",
        "    # Tính toán loss\n",
        "    return (y_hat - y) ** 2\n",
        "\n",
        "def compute_gradient_w(X_features, y, y_hat):\n",
        "    # Tính toán gradient\n",
        "    return [-2 * (y - y_hat) * x for x in X_features]\n",
        "\n",
        "def update_weights(weights, gradients, lr):\n",
        "    # Cập nhật trọng số với giá trị học lr\n",
        "    return [w - lr * g for w, g in zip(weights, gradients)]\n",
        "\n",
        "def implement_linear_regression(X_feature, y_output, epoch_max=50, lr=1e-5):\n",
        "    weights = initialize_params()\n",
        "    N = len(y_output)\n",
        "    losses = []\n",
        "\n",
        "    for epoch in range(epoch_max):\n",
        "        print(\"Epoch\", epoch)\n",
        "        for i in range(N):\n",
        "            # Lấy một mẫu - hàng i\n",
        "            features_i = X_feature[i]\n",
        "            y_true = y_output[i]\n",
        "\n",
        "            # Tính toán đầu ra\n",
        "            y_hat = predict(features_i, weights)\n",
        "\n",
        "            # Tính toán loss\n",
        "            loss = compute_loss(y_hat, y_true)\n",
        "\n",
        "            # Tính toán gradient w1, w2, w3, b\n",
        "            dl_dweights = compute_gradient_w(features_i, y_true, y_hat)\n",
        "\n",
        "            # Cập nhật parameters\n",
        "            weights = update_weights(weights, dl_dweights, lr)\n",
        "\n",
        "            # Ghi lại loss\n",
        "            losses.append(loss)\n",
        "\n",
        "    return weights, losses\n",
        "\n",
        "# Sử dụng hàm huấn luyện\n",
        "X, y = prepare_data('/content/advertising.csv')\n",
        "# weights, losses = implement_linear_regression(X, y)\n",
        "\n",
        "# print(\"Trọng số học được:\", weights)\n",
        "\n",
        "# Vẽ đồ thị loss theo số lần lặp (epoch)\n",
        "# plt.plot(losses)\n",
        "# plt.xlabel(\"Epoch\")\n",
        "# plt.ylabel(\"MSE Loss\")\n",
        "# plt.title(\"MSE Loss over Epochs\")\n",
        "# plt.show()\n",
        "W , L = implement_linear_regression (X , y , epoch_max =50 , lr =1e-5)\n",
        "# Print loss value at iteration 9999\n",
        "print (L[9999])"
      ],
      "metadata": {
        "colab": {
          "base_uri": "https://localhost:8080/"
        },
        "id": "fUziqFd1nrTd",
        "outputId": "d41f4be0-907f-4baf-e353-54e0c0112ee0"
      },
      "execution_count": 68,
      "outputs": [
        {
          "output_type": "stream",
          "name": "stdout",
          "text": [
            "Epoch 0\n",
            "Epoch 1\n",
            "Epoch 2\n",
            "Epoch 3\n",
            "Epoch 4\n",
            "Epoch 5\n",
            "Epoch 6\n",
            "Epoch 7\n",
            "Epoch 8\n",
            "Epoch 9\n",
            "Epoch 10\n",
            "Epoch 11\n",
            "Epoch 12\n",
            "Epoch 13\n",
            "Epoch 14\n",
            "Epoch 15\n",
            "Epoch 16\n",
            "Epoch 17\n",
            "Epoch 18\n",
            "Epoch 19\n",
            "Epoch 20\n",
            "Epoch 21\n",
            "Epoch 22\n",
            "Epoch 23\n",
            "Epoch 24\n",
            "Epoch 25\n",
            "Epoch 26\n",
            "Epoch 27\n",
            "Epoch 28\n",
            "Epoch 29\n",
            "Epoch 30\n",
            "Epoch 31\n",
            "Epoch 32\n",
            "Epoch 33\n",
            "Epoch 34\n",
            "Epoch 35\n",
            "Epoch 36\n",
            "Epoch 37\n",
            "Epoch 38\n",
            "Epoch 39\n",
            "Epoch 40\n",
            "Epoch 41\n",
            "Epoch 42\n",
            "Epoch 43\n",
            "Epoch 44\n",
            "Epoch 45\n",
            "Epoch 46\n",
            "Epoch 47\n",
            "Epoch 48\n",
            "Epoch 49\n",
            "31.339223408109948\n"
          ]
        }
      ]
    }
  ]
}