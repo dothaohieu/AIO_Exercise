{
  "nbformat": 4,
  "nbformat_minor": 0,
  "metadata": {
    "colab": {
      "provenance": []
    },
    "kernelspec": {
      "name": "python3",
      "display_name": "Python 3"
    },
    "language_info": {
      "name": "python"
    }
  },
  "cells": [
    {
      "cell_type": "code",
      "execution_count": 2,
      "metadata": {
        "id": "HDWTwxEzXrIK"
      },
      "outputs": [],
      "source": [
        "class CustomLinearRegression:\n",
        "    def __init__(self, X_data, y_target, learning_rate=0.01, num_epochs=10000):\n",
        "        self.num_samples = X_data.shape[0]\n",
        "        self.X_data = np.c_[np.ones((self.num_samples, 1)), X_data]\n",
        "        self.y_target = y_target\n",
        "        self.learning_rate = learning_rate\n",
        "        self.num_epochs = num_epochs\n",
        "\n",
        "        # Initial weights\n",
        "        self.theta = np.random.randn(self.X_data.shape[1], 1)\n",
        "        self.losses = []\n",
        "\n",
        "    def compute_loss(self, y_pred, y_target):\n",
        "        errors = y_pred - y_target\n",
        "        loss = (1 / (2 * len(y_target))) * np.sum(errors ** 2)\n",
        "        return loss\n",
        "\n",
        "    def predict(self, X_data):\n",
        "        X_data = np.c_[np.ones((X_data.shape[0], 1)), X_data]\n",
        "        y_pred = np.dot(X_data, self.theta)\n",
        "        return y_pred\n",
        "\n",
        "    def fit(self):\n",
        "        for epoch in range(self.num_epochs):\n",
        "            # Predict\n",
        "            y_pred = self.predict(self.X_data)\n",
        "\n",
        "            # Compute the loss\n",
        "            loss = self.compute_loss(y_pred, self.y_target)\n",
        "            self.losses.append(loss)\n",
        "\n",
        "            # Compute the gradient\n",
        "            loss_grd = 2 * (y_pred - self.y_target) / self.num_samples\n",
        "            gradients = np.dot(self.X_data.T, loss_grd)\n",
        "\n",
        "            # Update the weights\n",
        "            self.theta -= self.learning_rate * gradients\n",
        "\n",
        "            if epoch % 50 == 0:\n",
        "                print(f'Epoch: {epoch} - Loss: {loss}')\n",
        "\n",
        "        return {\n",
        "            'loss': sum(self.losses) / len(self.losses),\n",
        "            'weight': self.theta\n",
        "        }"
      ]
    },
    {
      "cell_type": "code",
      "source": [
        "def r2score ( y_pred , y ):\n",
        "  rss = np . sum (( y_pred - y ) ** 2)\n",
        "  tss = np . sum (( y - y . mean () ) )\n",
        "  r2 = 1 - ( rss / tss )\n",
        "  return r2"
      ],
      "metadata": {
        "id": "qyW3s908bG-w"
      },
      "execution_count": 3,
      "outputs": []
    },
    {
      "cell_type": "code",
      "source": [
        "import numpy as np\n",
        "from sklearn.metrics import r2_score\n",
        "\n",
        "# Case 1\n",
        "y_pred1 = np.array([1, 2, 3, 4, 5])\n",
        "y1 = np.array([1, 2, 3, 4, 5])\n",
        "r2_case1 = r2_score(y1, y_pred1)\n",
        "\n",
        "# Case 2\n",
        "y_pred2 = np.array([1, 2, 3, 4, 5])\n",
        "y2 = np.array([3, 5, 5, 2, 4])\n",
        "r2_case2 = r2_score(y2, y_pred2)\n",
        "\n",
        "print(f\"Case 1 R2 Score: {r2_case1}\")\n",
        "print(f\"Case 2 R2 Score: {r2_case2}\")"
      ],
      "metadata": {
        "colab": {
          "base_uri": "https://localhost:8080/"
        },
        "id": "8TfRRwutbarh",
        "outputId": "dd70707c-1cae-4aa5-9351-5ac6e91e584a"
      },
      "execution_count": 4,
      "outputs": [
        {
          "output_type": "stream",
          "name": "stdout",
          "text": [
            "Case 1 R2 Score: 1.0\n",
            "Case 2 R2 Score: -2.235294117647059\n"
          ]
        }
      ]
    },
    {
      "cell_type": "code",
      "source": [
        "import numpy as np\n",
        "\n",
        "def create_polynomial_features(X, degree=2):\n",
        "    \"\"\"Creates polynomial features.\n",
        "\n",
        "    Args:\n",
        "        X : A numpy array for the data.\n",
        "        degree : An integer for the degree of the generated polynomial function.\n",
        "    \"\"\"\n",
        "    X_new = X\n",
        "    for d in range(2, degree + 1):\n",
        "        X_new = np.concatenate((X_new, X**d), axis=1)\n",
        "    return X_new\n",
        "\n",
        "# Example usage\n",
        "X = np.array([[1], [2], [3]])\n",
        "X_poly = create_polynomial_features(X, degree=2)\n",
        "print(X_poly)"
      ],
      "metadata": {
        "colab": {
          "base_uri": "https://localhost:8080/"
        },
        "id": "ZaHjVEFGb6aP",
        "outputId": "c44a8056-947a-48d8-b4df-ab9b2b5a9d69"
      },
      "execution_count": 5,
      "outputs": [
        {
          "output_type": "stream",
          "name": "stdout",
          "text": [
            "[[1 1]\n",
            " [2 4]\n",
            " [3 9]]\n"
          ]
        }
      ]
    },
    {
      "cell_type": "code",
      "source": [
        "import numpy as np\n",
        "\n",
        "def create_polynomial_features(X, degree=2):\n",
        "    \"\"\"Creates the polynomial features.\n",
        "\n",
        "    Args:\n",
        "        X : A numpy array for the data.\n",
        "        degree : An integer for the degree of the generated polynomial function.\n",
        "    \"\"\"\n",
        "    X_mem = []\n",
        "    for X_sub in X.T:\n",
        "        X_new = X_sub\n",
        "        for d in range(2, degree + 1):\n",
        "            X_new = np.c_[X_new, np.power(X_sub, d)]\n",
        "        X_mem.extend(X_new.T)\n",
        "    return np.c_[X_mem].T\n",
        "\n",
        "# Example usage\n",
        "X = np.array([[1, 2],\n",
        "              [2, 3],\n",
        "              [3, 4]])\n",
        "X_poly = create_polynomial_features(X, degree=2)\n",
        "print(X_poly)"
      ],
      "metadata": {
        "colab": {
          "base_uri": "https://localhost:8080/"
        },
        "id": "FVowc-DZeelc",
        "outputId": "22149103-9c27-4eca-d977-b73208b7ad01"
      },
      "execution_count": 7,
      "outputs": [
        {
          "output_type": "stream",
          "name": "stdout",
          "text": [
            "[[ 1  1  2  4]\n",
            " [ 2  4  3  9]\n",
            " [ 3  9  4 16]]\n"
          ]
        }
      ]
    },
    {
      "cell_type": "markdown",
      "source": [
        "sales prediction"
      ],
      "metadata": {
        "id": "t0DrYP9Hexh-"
      }
    },
    {
      "cell_type": "code",
      "source": [
        "import pandas as pd\n",
        "dataset_path = '/content/SalesPrediction.csv'\n",
        "\n",
        "df = pd. read_csv (dataset_path)\n",
        "df.head()\n",
        "df= pd.get_dummies(df)"
      ],
      "metadata": {
        "id": "bRbA5lQRe0HV"
      },
      "execution_count": 16,
      "outputs": []
    },
    {
      "cell_type": "code",
      "source": [
        "# Handle Null values\n",
        "df = df.fillna(df.mean())\n",
        "\n",
        "# Get features\n",
        "X = df[['TV', 'Radio', 'Social Media', 'Influencer_Macro',\n",
        "        'Influencer_Mega', 'Influencer_Micro', 'Influencer_Nano']]\n",
        "y = df[['Sales']]\n",
        "\n",
        "# Train Test Split\n",
        "from sklearn.model_selection import train_test_split\n",
        "\n",
        "X_train, X_test, y_train, y_test = train_test_split(\n",
        "    X,\n",
        "    y,\n",
        "    test_size=0.33,\n",
        "    random_state=0\n",
        ")"
      ],
      "metadata": {
        "id": "ClDyPbmGhCg6"
      },
      "execution_count": 17,
      "outputs": []
    },
    {
      "cell_type": "code",
      "source": [
        "from sklearn . preprocessing import StandardScaler\n",
        "scaler = StandardScaler ()\n",
        "X_train_processed = scaler . fit_transform ( X_train)\n",
        "X_test_processed = scaler.transform(X_test)\n",
        "scaler . mean_[0]"
      ],
      "metadata": {
        "colab": {
          "base_uri": "https://localhost:8080/"
        },
        "id": "a8VspPd3hzoX",
        "outputId": "884e57e3-1391-4c9c-a25b-17d89f88aea8"
      },
      "execution_count": 23,
      "outputs": [
        {
          "output_type": "execute_result",
          "data": {
            "text/plain": [
              "54.173577723283785"
            ]
          },
          "metadata": {},
          "execution_count": 23
        }
      ]
    },
    {
      "cell_type": "code",
      "source": [
        "from sklearn . preprocessing import PolynomialFeatures\n",
        "poly_features = PolynomialFeatures ( degree =2)\n",
        "X_train_poly = poly_features . fit_transform ( X_train_processed )\n",
        "X_test_poly = poly_features . transform (X_test_processed)"
      ],
      "metadata": {
        "id": "ZTqQ6OeeiFMp"
      },
      "execution_count": 24,
      "outputs": []
    },
    {
      "cell_type": "code",
      "source": [
        "from sklearn . linear_model import LinearRegression\n",
        "from sklearn . metrics import r2_score\n",
        "poly_model = LinearRegression ()\n",
        "poly_model . fit ( X_train_poly , y_train )\n",
        "preds = poly_model . predict ( X_test_poly )\n",
        "r2_score ( y_test , preds )"
      ],
      "metadata": {
        "colab": {
          "base_uri": "https://localhost:8080/"
        },
        "id": "eK1odmp5iFuZ",
        "outputId": "59a2e502-1b9d-4374-f85c-2c805fb37999"
      },
      "execution_count": 25,
      "outputs": [
        {
          "output_type": "execute_result",
          "data": {
            "text/plain": [
              "0.9951796158547627"
            ]
          },
          "metadata": {},
          "execution_count": 25
        }
      ]
    }
  ]
}