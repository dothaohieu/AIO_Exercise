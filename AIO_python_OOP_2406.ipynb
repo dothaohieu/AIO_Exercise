{
 "cells": [
  {
   "cell_type": "code",
   "execution_count": 2,
   "metadata": {},
   "outputs": [
    {
     "name": "stdout",
     "output_type": "stream",
     "text": [
      "tensor([0.0900, 0.2447, 0.6652])\n",
      "tensor([0.0900, 0.2447, 0.6652])\n"
     ]
    }
   ],
   "source": [
    "import torch \n",
    "\n",
    "class Softmax(torch.nn.Module):\n",
    "    def forward(self, x):\n",
    "        return torch.exp(x)/torch.sum(torch.exp(x))\n",
    "    \n",
    "class softmax_stable(torch.nn.Module):\n",
    "    def forward(self, x):\n",
    "        c = max(x)\n",
    "        return torch.exp(x-c)/torch.sum(torch.exp(x-c))\n",
    "    \n",
    "data = torch.Tensor([1,2,3])\n",
    "softmax = Softmax()\n",
    "out = softmax(data)\n",
    "print(out)\n",
    "\n",
    "sm_stable = softmax_stable()\n",
    "output = sm_stable(data)\n",
    "print(output)"
   ]
  }
 ],
 "metadata": {
  "kernelspec": {
   "display_name": "9414",
   "language": "python",
   "name": "python3"
  },
  "language_info": {
   "codemirror_mode": {
    "name": "ipython",
    "version": 3
   },
   "file_extension": ".py",
   "mimetype": "text/x-python",
   "name": "python",
   "nbconvert_exporter": "python",
   "pygments_lexer": "ipython3",
   "version": "3.11.9"
  }
 },
 "nbformat": 4,
 "nbformat_minor": 2
}
