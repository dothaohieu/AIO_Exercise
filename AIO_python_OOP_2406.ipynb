{
 "cells": [
  {
   "cell_type": "code",
   "execution_count": 8,
   "metadata": {},
   "outputs": [
    {
     "name": "stdout",
     "output_type": "stream",
     "text": [
      "tensor([0.0900, 0.2447, 0.6652])\n",
      "tensor([0.0900, 0.2447, 0.6652])\n"
     ]
    }
   ],
   "source": [
    "import torch \n",
    "\n",
    "class Softmax(torch.nn.Module):\n",
    "    def forward(self, x):\n",
    "        return torch.exp(x)/torch.sum(torch.exp(x))\n",
    "    \n",
    "class softmax_stable(torch.nn.Module):\n",
    "    def forward(self, x):\n",
    "        c = max(x)\n",
    "        return torch.exp(x-c)/torch.sum(torch.exp(x-c))\n",
    "    \n",
    "data = torch.Tensor([1,2,3])\n",
    "softmax = Softmax()\n",
    "out = softmax(data)\n",
    "print(out)\n",
    "\n",
    "sm_stable = softmax_stable()\n",
    "output = sm_stable(data)\n",
    "print(output)"
   ]
  },
  {
   "cell_type": "code",
   "execution_count": 9,
   "metadata": {},
   "outputs": [
    {
     "name": "stdout",
     "output_type": "stream",
     "text": [
      "Student - Name:  studentA  - YoB: 2010 - Grade:  7 \n",
      "Teacher - Name: teacherA - YoB: 1969 - Subject: Math\n",
      "Doctor - Name: doctorA - YoB: 1945 - Specialist: Endocrinologists\n",
      "Ward Name: Ward1\n",
      "Student - Name:  studentA  - YoB: 2010 - Grade:  7 \n",
      "Teacher - Name: teacherA - YoB: 1969 - Subject: Math\n",
      "Teacher - Name:  teacherB  - YoB: 1995 - Subject:  History \n",
      "Doctor - Name: doctorA - YoB: 1945 - Specialist: Endocrinologists\n",
      "Doctor - Name:  doctorB  - YoB: 1975 - Specialist:  Cardiologists \n"
     ]
    }
   ],
   "source": [
    "class Person:\n",
    "    def __init__(self, name: str, yob: int) -> None:\n",
    "        self.name = name\n",
    "        self.yob = yob\n",
    "\n",
    "class Student(Person):\n",
    "    def __init__(self, name: str, yob: int, grade: str) -> None:\n",
    "        super().__init__(name, yob)\n",
    "        self.grade = grade\n",
    "\n",
    "    def describe(self):\n",
    "        print(\"Student - Name: {} - YoB: {} - Grade: {}\".format(self.name, self.yob, self.grade))\n",
    "student1 = Student ( name = \" studentA \" , yob =2010 , grade = \" 7 \" )\n",
    "student1.describe()\n",
    "\n",
    "class Teacher(Person):\n",
    "    def __init__(self, name: str, yob: int, subject: str) -> None:\n",
    "        super().__init__(name, yob)\n",
    "        self.subject = subject\n",
    "    def describe(self):\n",
    "        print(\"Teacher - Name: {} - YoB: {} - Subject: {}\".format(self.name, self.yob, self.subject))\n",
    "teacher1 = Teacher(name = \"teacherA\" , yob =1969 , subject = \"Math\" )\n",
    "teacher1.describe()\n",
    "\n",
    "class Doctor(Person):\n",
    "    def __init__(self, name: str, yob: int, specialist: str) -> None:\n",
    "        super().__init__(name, yob)\n",
    "        self.specialist = specialist\n",
    "    def describe(self):\n",
    "        print(\"Doctor - Name: {} - YoB: {} - Specialist: {}\".format(self.name, self.yob, self.specialist))\n",
    "\n",
    "doctor1 = Doctor(name = \"doctorA\" , yob =1945 , specialist = \"Endocrinologists\")\n",
    "doctor1.describe()\n",
    "\n",
    "class Ward:\n",
    "    def __init__(self, name) -> None:\n",
    "        self.name = name\n",
    "        self.residents = []\n",
    "    def add_person(self, person):\n",
    "        if not isinstance(person, Person):\n",
    "            raise ValueError(\"Accept Person only\")\n",
    "        else:\n",
    "            self.residents.append(person)\n",
    "    def describe(self):\n",
    "        print(\"Ward Name: {}\".format(self.name))\n",
    "        if len(self.residents) > 0:\n",
    "            for person in self.residents:\n",
    "                person.describe()\n",
    "\n",
    "    def count_doctor(self):\n",
    "        list_doctor = [person for person in self.residents if isinstance(person, Doctor)]\n",
    "        return len(list_doctor)\n",
    "\n",
    "    def sort_age(self):\n",
    "        self.residents = sorted(self.residents, key=lambda person: person.yob, reverse=True)\n",
    "\n",
    "    def compute_average(self):\n",
    "        teacher = [person.yob for person in self.residents if isinstance(person, Teacher)]\n",
    "        if len(teacher) > 0:\n",
    "            return sum(teacher)/len(teacher)\n",
    "        else:\n",
    "            raise ValueError(\"No teachers found.\")\n",
    "    \n",
    "teacher2 = Teacher ( name = \" teacherB \" , yob =1995 , subject = \" History \" )\n",
    "doctor2 = Doctor ( name = \" doctorB \" , yob =1975 , specialist = \" Cardiologists \" )\n",
    "ward1 = Ward(name=\"Ward1\")\n",
    "ward1.add_person(student1)\n",
    "ward1.add_person(teacher1)\n",
    "ward1.add_person(teacher2)\n",
    "ward1.add_person(doctor1)\n",
    "ward1.add_person(doctor2)\n",
    "ward1.describe()\n",
    "\n",
    "\n"
   ]
  },
  {
   "cell_type": "code",
   "execution_count": 10,
   "metadata": {},
   "outputs": [
    {
     "name": "stdout",
     "output_type": "stream",
     "text": [
      "Number of doctors : 2\n"
     ]
    }
   ],
   "source": [
    "print (f\"Number of doctors : {ward1.count_doctor()}\")\n"
   ]
  },
  {
   "cell_type": "code",
   "execution_count": 11,
   "metadata": {},
   "outputs": [
    {
     "name": "stdout",
     "output_type": "stream",
     "text": [
      "\n",
      "After sorting Age of Ward1 people\n",
      "Ward Name: Ward1\n",
      "Student - Name:  studentA  - YoB: 2010 - Grade:  7 \n",
      "Teacher - Name:  teacherB  - YoB: 1995 - Subject:  History \n",
      "Doctor - Name:  doctorB  - YoB: 1975 - Specialist:  Cardiologists \n",
      "Teacher - Name: teacherA - YoB: 1969 - Subject: Math\n",
      "Doctor - Name: doctorA - YoB: 1945 - Specialist: Endocrinologists\n"
     ]
    }
   ],
   "source": [
    "print(\"\\nAfter sorting Age of Ward1 people\")\n",
    "ward1.sort_age()\n",
    "ward1.describe()"
   ]
  },
  {
   "cell_type": "code",
   "execution_count": 12,
   "metadata": {},
   "outputs": [
    {
     "name": "stdout",
     "output_type": "stream",
     "text": [
      "\n",
      "Average year of birth (teachers): 1982.0\n"
     ]
    }
   ],
   "source": [
    "print(f\"\\nAverage year of birth (teachers): {ward1.compute_average()}\")"
   ]
  },
  {
   "cell_type": "code",
   "execution_count": 6,
   "metadata": {},
   "outputs": [
    {
     "name": "stdout",
     "output_type": "stream",
     "text": [
      "False\n",
      "2\n",
      "2\n",
      "1\n",
      "1\n",
      "True\n"
     ]
    }
   ],
   "source": [
    "class MyStack:\n",
    "    def __init__(self, capacity:int) -> None:\n",
    "        self.capacity = capacity\n",
    "        self.stack = []\n",
    "\n",
    "    def is_empty(self):\n",
    "        return True if len(self.stack) == 0 else False\n",
    "    \n",
    "    def is_full(self):\n",
    "        return True if len(self.stack) == self.capacity else False\n",
    "    \n",
    "    def pop(self):\n",
    "        pop = self.stack.pop()\n",
    "        return pop\n",
    "    \n",
    "    def push(self, value):\n",
    "        if len(self.stack)<self.capacity:\n",
    "            self.stack.append(value)\n",
    "        else:\n",
    "            raise ValueError(\"Stack is full.\")\n",
    "\n",
    "    def top(self):\n",
    "        return self.stack[-1]\n",
    "    \n",
    "stack1 = MyStack(capacity=5)\n",
    "stack1.push(1)\n",
    "stack1.push(2)\n",
    "print(stack1.is_full())\n",
    "print(stack1.top())\n",
    "print(stack1.pop())\n",
    "print(stack1.top())\n",
    "print(stack1.pop())\n",
    "print(stack1.is_empty())\n",
    "\n",
    "\n",
    "\n"
   ]
  },
  {
   "cell_type": "code",
   "execution_count": 7,
   "metadata": {},
   "outputs": [
    {
     "name": "stdout",
     "output_type": "stream",
     "text": [
      "False\n",
      "1\n",
      "1\n",
      "2\n",
      "2\n",
      "True\n"
     ]
    }
   ],
   "source": [
    "class MyQueue:\n",
    "    def __init__(self, capacity:int) -> None:\n",
    "        self.capacity = capacity\n",
    "        self.queue = []\n",
    "\n",
    "    def is_empty(self):\n",
    "        return True if len(self.queue) == 0 else False\n",
    "    \n",
    "    def is_full(self):\n",
    "        return True if len(self.queue) == self.capacity else False\n",
    "    \n",
    "    def dequeue(self):\n",
    "        deque = self.queue.pop(0)\n",
    "        return deque\n",
    "    \n",
    "    def enqueue(self, value):\n",
    "        if len(self.queue)<self.capacity:\n",
    "            self.queue.append(value)\n",
    "        else:\n",
    "            raise ValueError(\"Stack is full.\")\n",
    "\n",
    "    def front(self):\n",
    "        return self.queue[0]\n",
    "    \n",
    "queue1 = MyQueue(capacity=5)\n",
    "queue1.enqueue(1)\n",
    "queue1.enqueue(2)\n",
    "print(queue1.is_full())\n",
    "print(queue1.front())\n",
    "print(queue1.dequeue())\n",
    "print(queue1.front())\n",
    "print(queue1.dequeue())\n",
    "print(queue1.is_empty())"
   ]
  }
 ],
 "metadata": {
  "kernelspec": {
   "display_name": "9414",
   "language": "python",
   "name": "python3"
  },
  "language_info": {
   "codemirror_mode": {
    "name": "ipython",
    "version": 3
   },
   "file_extension": ".py",
   "mimetype": "text/x-python",
   "name": "python",
   "nbconvert_exporter": "python",
   "pygments_lexer": "ipython3",
   "version": "3.11.9"
  }
 },
 "nbformat": 4,
 "nbformat_minor": 2
}
