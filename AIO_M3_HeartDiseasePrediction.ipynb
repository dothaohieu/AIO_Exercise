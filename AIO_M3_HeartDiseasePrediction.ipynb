{
  "nbformat": 4,
  "nbformat_minor": 0,
  "metadata": {
    "colab": {
      "provenance": []
    },
    "kernelspec": {
      "name": "python3",
      "display_name": "Python 3"
    },
    "language_info": {
      "name": "python"
    }
  },
  "cells": [
    {
      "cell_type": "markdown",
      "source": [
        "## Bài tập 1: (Data Analysis) hãy hoàn thiện chương trình sau sử dụng thư viện seaborn để hiện thị mối quan hệ giữa độ tuổi và khả năng bị bệnh tim. Ở đây, target = 1 ngụ ý rằng người đó đang bị bệnh tim và target = 0 ngụ ý rằng người đó không bị bệnh tim. Hình 3 thể hiện kết quả sau khi thực hiện đoạn code visualization bên dưới:"
      ],
      "metadata": {
        "id": "5D3P5y1lxueU"
      }
    },
    {
      "cell_type": "code",
      "execution_count": 1,
      "metadata": {
        "colab": {
          "base_uri": "https://localhost:8080/",
          "height": 553
        },
        "id": "0TC8V0UTnyQ4",
        "outputId": "c8056d14-cc35-4848-a949-6b8cf4f9a2f7"
      },
      "outputs": [
        {
          "output_type": "stream",
          "name": "stderr",
          "text": [
            "/usr/local/lib/python3.10/dist-packages/seaborn/_base.py:949: FutureWarning: When grouping with a length-1 list-like, you will need to pass a length-1 tuple to get_group in a future version of pandas. Pass `(name,)` instead of `name` to silence this warning.\n",
            "  data_subset = grouped_data.get_group(pd_key)\n",
            "/usr/local/lib/python3.10/dist-packages/seaborn/_base.py:949: FutureWarning: When grouping with a length-1 list-like, you will need to pass a length-1 tuple to get_group in a future version of pandas. Pass `(name,)` instead of `name` to silence this warning.\n",
            "  data_subset = grouped_data.get_group(pd_key)\n",
            "/usr/local/lib/python3.10/dist-packages/seaborn/_base.py:949: FutureWarning: When grouping with a length-1 list-like, you will need to pass a length-1 tuple to get_group in a future version of pandas. Pass `(name,)` instead of `name` to silence this warning.\n",
            "  data_subset = grouped_data.get_group(pd_key)\n"
          ]
        },
        {
          "output_type": "display_data",
          "data": {
            "text/plain": [
              "<Figure size 1000x600 with 1 Axes>"
            ],
            "image/png": "[encoded data removed]"
          },
          "metadata": {}
        }
      ],
      "source": [
        "import numpy as np\n",
        "import pandas as pd\n",
        "from matplotlib import pyplot as plt\n",
        "import seaborn as sns\n",
        "\n",
        "# Bai tap 1\n",
        "df = pd.read_csv('/content/cleveland.csv', header=None)\n",
        "df.columns = ['age', 'sex', 'cp', 'trestbps', 'chol',\n",
        "              'fbs', 'restecg', 'thalach', 'exang',\n",
        "              'oldpeak', 'slope', 'ca', 'thal', 'target']\n",
        "\n",
        "# Ngụ ý rằng tất cả giá trị target khác 0 đều ngụ ý bị bệnh tim\n",
        "df['target'] = df.target.map({0: 0, 1: 1, 2: 1, 3: 1, 4: 1})\n",
        "\n",
        "# Điền giá trị NaN với giá trị trung bình của cột\n",
        "df['thal'] = df.thal.fillna(df.thal.mean())\n",
        "df['ca'] = df.ca.fillna(df.ca.mean())\n",
        "\n",
        "# Trực quan hóa phân bố của target vs age\n",
        "plt.figure(figsize=(10, 6))\n",
        "sns.histplot(data=df, x='age', hue='target', multiple='stack', palette='coolwarm', bins=30)\n",
        "plt.title('Age Distribution Based on Heart Disease')\n",
        "plt.xlabel('Age')\n",
        "plt.ylabel('Count')\n",
        "\n",
        "plt.show()"
      ]
    },
    {
      "cell_type": "markdown",
      "source": [
        "## Bài tập 2: (Data Analysis) hãy hoàn thiện chương trình sau sử dụng thư viện seaborn để hiện thị mối quan hệ giữa độ tuổi, giới tính và khả năng bị bệnh tim. Hình 4 thể hiện kết quả sau khi thực hiện đoạn code visualization bên dưới:"
      ],
      "metadata": {
        "id": "SbVFnCrQyb9q"
      }
    },
    {
      "cell_type": "code",
      "source": [
        "import numpy as np\n",
        "import pandas as pd\n",
        "from matplotlib import pyplot as plt\n",
        "import seaborn as sns\n",
        "\n",
        "# Đọc và chuẩn bị dữ liệu\n",
        "df = pd.read_csv('/content/cleveland.csv', header=None)\n",
        "df.columns = ['age', 'sex', 'cp', 'trestbps', 'chol',\n",
        "              'fbs', 'restecg', 'thalach', 'exang',\n",
        "              'oldpeak', 'slope', 'ca', 'thal', 'target']\n",
        "\n",
        "# Bản đồ mục tiêu\n",
        "df['target'] = df.target.map({0: 0, 1: 1, 2: 1, 3: 1, 4: 1})\n",
        "\n",
        "# Điền giá trị NaN\n",
        "df['thal'] = df.thal.fillna(df.thal.mean())\n",
        "df['ca'] = df.ca.fillna(df.ca.mean())\n",
        "\n",
        "# Biểu đồ cột giữa độ tuổi và giới tính với hue là target\n",
        "plt.figure(figsize=(12, 6))\n",
        "sns.barplot(data=df, x='age', y='sex', hue='target', ci=None, palette='coolwarm', estimator=lambda x: len(x) / len(df) * 100)\n",
        "\n",
        "plt.title('Relationship between Age, Sex, and Heart Disease')\n",
        "plt.xlabel('Age')\n",
        "plt.ylabel('Percentage Sex')\n",
        "plt.xticks(rotation=90)\n",
        "plt.legend(title='Heart Disease')\n",
        "\n",
        "plt.show()"
      ],
      "metadata": {
        "colab": {
          "base_uri": "https://localhost:8080/",
          "height": 544
        },
        "id": "dErAABULyf1l",
        "outputId": "faae62a4-c78a-4f9e-9294-2da741410184"
      },
      "execution_count": 3,
      "outputs": [
        {
          "output_type": "stream",
          "name": "stderr",
          "text": [
            "<ipython-input-3-8e23dee8e1ff>:21: FutureWarning: \n",
            "\n",
            "The `ci` parameter is deprecated. Use `errorbar=None` for the same effect.\n",
            "\n",
            "  sns.barplot(data=df, x='age', y='sex', hue='target', ci=None, palette='coolwarm', estimator=lambda x: len(x) / len(df) * 100)\n",
            "/usr/local/lib/python3.10/dist-packages/seaborn/_base.py:949: FutureWarning: When grouping with a length-1 list-like, you will need to pass a length-1 tuple to get_group in a future version of pandas. Pass `(name,)` instead of `name` to silence this warning.\n",
            "  data_subset = grouped_data.get_group(pd_key)\n",
            "/usr/local/lib/python3.10/dist-packages/seaborn/_base.py:949: FutureWarning: When grouping with a length-1 list-like, you will need to pass a length-1 tuple to get_group in a future version of pandas. Pass `(name,)` instead of `name` to silence this warning.\n",
            "  data_subset = grouped_data.get_group(pd_key)\n"
          ]
        },
        {
          "output_type": "display_data",
          "data": {
            "text/plain": [
              "<Figure size 1200x600 with 1 Axes>"
            ],
            "image/png": "[encoded data removed]"
          },
          "metadata": {}
        }
      ]
    },
    {
      "cell_type": "markdown",
      "source": [
        "## Bài tập 3: (sử dụng KNN cho dự đoán bệnh tim) hãy hoàn thiện chương trình sau sử dụng giải thuật KNN để dự đoán bệnh nhân có khả bị bệnh tim hay không sử dụng các tham số sau: n_neighbors=5,weights=’uniform’, algorithm=’auto’, leaf_size=30, p=2, metric=’minkowski’"
      ],
      "metadata": {
        "id": "fNLw9_ZmzScn"
      }
    },
    {
      "cell_type": "code",
      "source": [
        "import numpy as np\n",
        "import pandas as pd\n",
        "from sklearn.model_selection import train_test_split\n",
        "from sklearn.neighbors import KNeighborsClassifier\n",
        "from sklearn.metrics import confusion_matrix\n",
        "from sklearn.impute import SimpleImputer\n",
        "\n",
        "# Đọc dữ liệu từ tệp csv\n",
        "df = pd.read_csv('cleveland.csv', header=None)\n",
        "df.columns = ['age', 'sex', 'cp', 'trestbps', 'chol',\n",
        "              'fbs', 'restecg', 'thalach', 'exang',\n",
        "              'oldpeak', 'slope', 'ca', 'thal', 'target']\n",
        "\n",
        "# Bản đồ mục tiêu\n",
        "df['target'] = df.target.map({0: 0, 1: 1, 2: 1, 3: 1, 4: 1})\n",
        "\n",
        "# X và y\n",
        "X = df.iloc[:, :-1].values\n",
        "y = df.iloc[:, -1].values\n",
        "\n",
        "# Xử lý giá trị NaN bằng SimpleImputer\n",
        "imputer = SimpleImputer(strategy='mean')\n",
        "X = imputer.fit_transform(X)\n",
        "\n",
        "# Chia dữ liệu thành train và test\n",
        "X_train, X_test, y_train, y_test = train_test_split(X, y, test_size=0.2, random_state=42)\n",
        "\n",
        "# Khởi tạo và huấn luyện mô hình KNeighborsClassifier\n",
        "knn = KNeighborsClassifier(n_neighbors=5)\n",
        "\n",
        "# Huấn luyện mô hình\n",
        "knn.fit(X_train, y_train)\n",
        "\n",
        "# Dự đoán trên tập huấn luyện và kiểm tra\n",
        "y_train_pred = knn.predict(X_train)\n",
        "y_test_pred = knn.predict(X_test)\n",
        "\n",
        "# Tính toán ma trận nhầm lẫn cho cả tập huấn luyện và kiểm tra\n",
        "cm_train = confusion_matrix(y_train, y_train_pred)\n",
        "cm_test = confusion_matrix(y_test, y_test_pred)\n",
        "\n",
        "# In ra kết quả\n",
        "print(\"Confusion Matrix for Training Set:\\n\", cm_train)\n",
        "print(\"Confusion Matrix for Test Set:\\n\", cm_test)\n",
        "\n",
        "# Tính độ chính xác cho tập huấn luyện và kiểm tra\n",
        "accuracy_for_train = np.round((cm_train[0][0] + cm_train[1][1]) / len(y_train), 2)\n",
        "accuracy_for_test = np.round((cm_test[0][0] + cm_test[1][1]) / len(y_test), 2)\n",
        "\n",
        "print('Accuracy for training set for KNeighborsClassifier = {}'.format(accuracy_for_train))\n",
        "print('Accuracy for test set for KNeighborsClassifier = {}'.format(accuracy_for_test))"
      ],
      "metadata": {
        "colab": {
          "base_uri": "https://localhost:8080/"
        },
        "id": "rGyx-_2nzYcz",
        "outputId": "cc90dd5f-a357-44af-dd23-6b6ce85dfaf2"
      },
      "execution_count": 5,
      "outputs": [
        {
          "output_type": "stream",
          "name": "stdout",
          "text": [
            "Confusion Matrix for Training Set:\n",
            " [[107  28]\n",
            " [ 31  76]]\n",
            "Confusion Matrix for Test Set:\n",
            " [[22  7]\n",
            " [12 20]]\n",
            "Accuracy for training set for KNeighborsClassifier = 0.76\n",
            "Accuracy for test set for KNeighborsClassifier = 0.69\n"
          ]
        }
      ]
    },
    {
      "cell_type": "markdown",
      "source": [
        "## Bài tập 4: (sử dụng SVM cho dự đoán bệnh tim) hãy hoàn thiện chương trình sau sử dụng giải thuật SVM để dự đoán bệnh nhân có khả bị bệnh tim hay không sử dụng các tham số sau: kernel = ’rbf’,random_state=42"
      ],
      "metadata": {
        "id": "6kXOVpCdz6Eo"
      }
    },
    {
      "cell_type": "code",
      "source": [
        "import numpy as np\n",
        "import pandas as pd\n",
        "from sklearn.model_selection import train_test_split\n",
        "from sklearn.svm import SVC\n",
        "from sklearn.metrics import confusion_matrix\n",
        "from sklearn.impute import SimpleImputer\n",
        "\n",
        "# Đọc dữ liệu từ tệp csv\n",
        "df = pd.read_csv('cleveland.csv', header=None)\n",
        "df.columns = ['age', 'sex', 'cp', 'trestbps', 'chol',\n",
        "              'fbs', 'restecg', 'thalach', 'exang',\n",
        "              'oldpeak', 'slope', 'ca', 'thal', 'target']\n",
        "\n",
        "# Bản đồ mục tiêu\n",
        "df['target'] = df.target.map({0: 0, 1: 1, 2: 1, 3: 1, 4: 1})\n",
        "\n",
        "# X và y\n",
        "X = df.iloc[:, :-1].values\n",
        "y = df.iloc[:, -1].values\n",
        "\n",
        "# Xử lý giá trị NaN bằng SimpleImputer\n",
        "imputer = SimpleImputer(strategy='mean')\n",
        "X = imputer.fit_transform(X)\n",
        "\n",
        "# Chia dữ liệu thành train và test\n",
        "X_train, X_test, y_train, y_test = train_test_split(X, y, test_size=0.2, random_state=42)\n",
        "\n",
        "# Khởi tạo và huấn luyện mô hình SVM với kernel='rbf' và random_state=42\n",
        "svm = SVC(kernel='rbf', random_state=42)\n",
        "\n",
        "# Huấn luyện mô hình\n",
        "svm.fit(X_train, y_train)\n",
        "\n",
        "# Dự đoán trên tập huấn luyện và kiểm tra\n",
        "y_train_pred = svm.predict(X_train)\n",
        "y_test_pred = svm.predict(X_test)\n",
        "\n",
        "# Tính toán ma trận nhầm lẫn cho cả tập huấn luyện và kiểm tra\n",
        "cm_train = confusion_matrix(y_train, y_train_pred)\n",
        "cm_test = confusion_matrix(y_test, y_test_pred)\n",
        "\n",
        "# In ra kết quả\n",
        "print(\"Confusion Matrix for Training Set:\\n\", cm_train)\n",
        "print(\"Confusion Matrix for Test Set:\\n\", cm_test)\n",
        "\n",
        "# Tính độ chính xác cho tập huấn luyện và kiểm tra\n",
        "accuracy_for_train = np.round((cm_train[0][0] + cm_train[1][1]) / len(y_train), 2)\n",
        "accuracy_for_test = np.round((cm_test[0][0] + cm_test[1][1]) / len(y_test), 2)\n",
        "\n",
        "print('Accuracy for training set for SVM = {}'.format(accuracy_for_train))\n",
        "print('Accuracy for test set for SVM = {}'.format(accuracy_for_test))"
      ],
      "metadata": {
        "colab": {
          "base_uri": "https://localhost:8080/"
        },
        "id": "9hUEIJkb0Hae",
        "outputId": "ef6d6e7d-844c-4e43-f49e-d32f068fba47"
      },
      "execution_count": 6,
      "outputs": [
        {
          "output_type": "stream",
          "name": "stdout",
          "text": [
            "Confusion Matrix for Training Set:\n",
            " [[114  21]\n",
            " [ 61  46]]\n",
            "Confusion Matrix for Test Set:\n",
            " [[26  3]\n",
            " [17 15]]\n",
            "Accuracy for training set for SVM = 0.66\n",
            "Accuracy for test set for SVM = 0.67\n"
          ]
        }
      ]
    },
    {
      "cell_type": "markdown",
      "source": [
        "## Bài tập 5: (sử dụng Naive Bayes cho dự đoán bệnh tim) hãy hoàn thiện chương trình sau sử dụng giải thuật Naive Bayes để dự đoán bệnh nhân có khả bị bệnh tim hay không sử dụng các tham số sau: kernel = ’rbf’,random_state=42"
      ],
      "metadata": {
        "id": "8ZOVYtCa0qYe"
      }
    },
    {
      "cell_type": "code",
      "source": [
        "import numpy as np\n",
        "import pandas as pd\n",
        "from sklearn.model_selection import train_test_split\n",
        "from sklearn.naive_bayes import GaussianNB\n",
        "from sklearn.metrics import confusion_matrix\n",
        "from sklearn.impute import SimpleImputer\n",
        "\n",
        "# Đọc dữ liệu từ tệp csv\n",
        "df = pd.read_csv('cleveland.csv', header=None)\n",
        "df.columns = ['age', 'sex', 'cp', 'trestbps', 'chol',\n",
        "              'fbs', 'restecg', 'thalach', 'exang',\n",
        "              'oldpeak', 'slope', 'ca', 'thal', 'target']\n",
        "\n",
        "# Bản đồ mục tiêu\n",
        "df['target'] = df.target.map({0: 0, 1: 1, 2: 1, 3: 1, 4: 1})\n",
        "\n",
        "# X và y\n",
        "X = df.iloc[:, :-1].values\n",
        "y = df.iloc[:, -1].values\n",
        "\n",
        "# Xử lý giá trị NaN bằng SimpleImputer\n",
        "imputer = SimpleImputer(strategy='mean')\n",
        "X = imputer.fit_transform(X)\n",
        "\n",
        "# Chia dữ liệu thành train và test\n",
        "X_train, X_test, y_train, y_test = train_test_split(X, y, test_size=0.2, random_state=42)\n",
        "\n",
        "# Khởi tạo và huấn luyện mô hình Naive Bayes\n",
        "nb = GaussianNB()\n",
        "\n",
        "# Huấn luyện mô hình\n",
        "nb.fit(X_train, y_train)\n",
        "\n",
        "# Dự đoán trên tập huấn luyện và kiểm tra\n",
        "y_train_pred = nb.predict(X_train)\n",
        "y_test_pred = nb.predict(X_test)\n",
        "\n",
        "# Tính toán ma trận nhầm lẫn cho cả tập huấn luyện và kiểm tra\n",
        "cm_train = confusion_matrix(y_train, y_train_pred)\n",
        "cm_test = confusion_matrix(y_test, y_test_pred)\n",
        "\n",
        "# In ra kết quả\n",
        "print(\"Confusion Matrix for Training Set:\\n\", cm_train)\n",
        "print(\"Confusion Matrix for Test Set:\\n\", cm_test)\n",
        "\n",
        "# Tính độ chính xác cho tập huấn luyện và kiểm tra\n",
        "accuracy_for_train = np.round((cm_train[0][0] + cm_train[1][1]) / len(y_train), 2)\n",
        "accuracy_for_test = np.round((cm_test[0][0] + cm_test[1][1]) / len(y_test), 2)\n",
        "\n",
        "print('Accuracy for training set for Naive Bayes = {}'.format(accuracy_for_train))\n",
        "print('Accuracy for test set for Naive Bayes = {}'.format(accuracy_for_test))"
      ],
      "metadata": {
        "colab": {
          "base_uri": "https://localhost:8080/"
        },
        "id": "1ax_Gibd0qqG",
        "outputId": "b51745b0-0aa5-4d3a-c50b-0ec997e4a4fa"
      },
      "execution_count": 7,
      "outputs": [
        {
          "output_type": "stream",
          "name": "stdout",
          "text": [
            "Confusion Matrix for Training Set:\n",
            " [[122  13]\n",
            " [ 24  83]]\n",
            "Confusion Matrix for Test Set:\n",
            " [[26  3]\n",
            " [ 7 25]]\n",
            "Accuracy for training set for Naive Bayes = 0.85\n",
            "Accuracy for test set for Naive Bayes = 0.84\n"
          ]
        }
      ]
    },
    {
      "cell_type": "markdown",
      "source": [
        "## Bài tập 6: (sử dụng Decision Tree cho dự đoán bệnh tim) hãy hoàn thiện chương trình sau sử dụng giải thuật Decision Tree để dự đoán bệnh nhân có khả bị bệnh tim hay không sử dụng các tham số sau:criterion=’gini’, max_depth=10, min_samples_split=2"
      ],
      "metadata": {
        "id": "7SHs4Gq4022N"
      }
    },
    {
      "cell_type": "code",
      "source": [
        "import numpy as np\n",
        "import pandas as pd\n",
        "from sklearn.model_selection import train_test_split\n",
        "from sklearn.tree import DecisionTreeClassifier\n",
        "from sklearn.metrics import confusion_matrix\n",
        "from sklearn.impute import SimpleImputer\n",
        "\n",
        "# Đọc dữ liệu từ tệp csv\n",
        "df = pd.read_csv('cleveland.csv', header=None)\n",
        "df.columns = ['age', 'sex', 'cp', 'trestbps', 'chol',\n",
        "              'fbs', 'restecg', 'thalach', 'exang',\n",
        "              'oldpeak', 'slope', 'ca', 'thal', 'target']\n",
        "\n",
        "# Bản đồ mục tiêu\n",
        "df['target'] = df.target.map({0: 0, 1: 1, 2: 1, 3: 1, 4: 1})\n",
        "\n",
        "# X và y\n",
        "X = df.iloc[:, :-1].values\n",
        "y = df.iloc[:, -1].values\n",
        "\n",
        "# Xử lý giá trị NaN bằng SimpleImputer\n",
        "imputer = SimpleImputer(strategy='mean')\n",
        "X = imputer.fit_transform(X)\n",
        "\n",
        "# Chia dữ liệu thành train và test\n",
        "X_train, X_test, y_train, y_test = train_test_split(X, y, test_size=0.2, random_state=42)\n",
        "\n",
        "# Khởi tạo và huấn luyện mô hình Decision Tree\n",
        "dt = DecisionTreeClassifier(criterion='gini', max_depth=10, min_samples_split=2, random_state=42)\n",
        "\n",
        "# Huấn luyện mô hình\n",
        "dt.fit(X_train, y_train)\n",
        "\n",
        "# Dự đoán trên tập huấn luyện và kiểm tra\n",
        "y_train_pred = dt.predict(X_train)\n",
        "y_test_pred = dt.predict(X_test)\n",
        "\n",
        "# Tính toán ma trận nhầm lẫn cho cả tập huấn luyện và kiểm tra\n",
        "cm_train = confusion_matrix(y_train, y_train_pred)\n",
        "cm_test = confusion_matrix(y_test, y_test_pred)\n",
        "\n",
        "# In ra kết quả\n",
        "print(\"Confusion Matrix for Training Set:\\n\", cm_train)\n",
        "print(\"Confusion Matrix for Test Set:\\n\", cm_test)\n",
        "\n",
        "# Tính độ chính xác cho tập huấn luyện và kiểm tra\n",
        "accuracy_for_train = np.round((cm_train[0][0] + cm_train[1][1]) / len(y_train), 2)\n",
        "accuracy_for_test = np.round((cm_test[0][0] + cm_test[1][1]) / len(y_test), 2)\n",
        "\n",
        "print('Accuracy for training set for Decision Tree = {}'.format(accuracy_for_train))\n",
        "print('Accuracy for test set for Decision Tree = {}'.format(accuracy_for_test))"
      ],
      "metadata": {
        "colab": {
          "base_uri": "https://localhost:8080/"
        },
        "id": "bgE2Q3gJ055L",
        "outputId": "e2273e8a-11ed-439e-9b71-c4c1a1951cc4"
      },
      "execution_count": 8,
      "outputs": [
        {
          "output_type": "stream",
          "name": "stdout",
          "text": [
            "Confusion Matrix for Training Set:\n",
            " [[135   0]\n",
            " [  0 107]]\n",
            "Confusion Matrix for Test Set:\n",
            " [[22  7]\n",
            " [ 8 24]]\n",
            "Accuracy for training set for Decision Tree = 1.0\n",
            "Accuracy for test set for Decision Tree = 0.75\n"
          ]
        }
      ]
    },
    {
      "cell_type": "markdown",
      "source": [
        "## Bài tập 7: (sử dụng Random Forest cho dự đoán bệnh tim) hãy hoàn thiện chương trình sau sử dụng giải thuật Random Forest để dự đoán bệnh nhân có khả bị bệnh tim hay không sử dụng các tham số sau: criterion=’gini’, max_depth=10, min_samples_split=2, n_estimators = 10, random_state=42"
      ],
      "metadata": {
        "id": "nb8w_y5w1OXW"
      }
    },
    {
      "cell_type": "code",
      "source": [
        "import numpy as np\n",
        "import pandas as pd\n",
        "from sklearn.model_selection import train_test_split\n",
        "from sklearn.ensemble import RandomForestClassifier\n",
        "from sklearn.metrics import confusion_matrix\n",
        "from sklearn.impute import SimpleImputer\n",
        "\n",
        "# Đọc dữ liệu từ tệp csv\n",
        "df = pd.read_csv('cleveland.csv', header=None)\n",
        "df.columns = ['age', 'sex', 'cp', 'trestbps', 'chol',\n",
        "              'fbs', 'restecg', 'thalach', 'exang',\n",
        "              'oldpeak', 'slope', 'ca', 'thal', 'target']\n",
        "\n",
        "# Bản đồ mục tiêu\n",
        "df['target'] = df.target.map({0: 0, 1: 1, 2: 1, 3: 1, 4: 1})\n",
        "\n",
        "# X và y\n",
        "X = df.iloc[:, :-1].values\n",
        "y = df.iloc[:, -1].values\n",
        "\n",
        "# Xử lý giá trị NaN bằng SimpleImputer\n",
        "imputer = SimpleImputer(strategy='mean')\n",
        "X = imputer.fit_transform(X)\n",
        "\n",
        "# Chia dữ liệu thành train và test\n",
        "X_train, X_test, y_train, y_test = train_test_split(X, y, test_size=0.2, random_state=42)\n",
        "\n",
        "# Khởi tạo và huấn luyện mô hình Random Forest\n",
        "rf = RandomForestClassifier(criterion='gini', max_depth=10, min_samples_split=2, n_estimators=10, random_state=42)\n",
        "\n",
        "# Huấn luyện mô hình\n",
        "rf.fit(X_train, y_train)\n",
        "\n",
        "# Dự đoán trên tập huấn luyện và kiểm tra\n",
        "y_train_pred = rf.predict(X_train)\n",
        "y_test_pred = rf.predict(X_test)\n",
        "\n",
        "# Tính toán ma trận nhầm lẫn cho cả tập huấn luyện và kiểm tra\n",
        "cm_train = confusion_matrix(y_train, y_train_pred)\n",
        "cm_test = confusion_matrix(y_test, y_test_pred)\n",
        "\n",
        "# In ra kết quả\n",
        "print(\"Confusion Matrix for Training Set:\\n\", cm_train)\n",
        "print(\"Confusion Matrix for Test Set:\\n\", cm_test)\n",
        "\n",
        "# Tính độ chính xác cho tập huấn luyện và kiểm tra\n",
        "accuracy_for_train = np.round((cm_train[0][0] + cm_train[1][1]) / len(y_train), 2)\n",
        "accuracy_for_test = np.round((cm_test[0][0] + cm_test[1][1]) / len(y_test), 2)\n",
        "\n",
        "print('Accuracy for training set for Random Forest = {}'.format(accuracy_for_train))\n",
        "print('Accuracy for test set for Random Forest = {}'.format(accuracy_for_test))"
      ],
      "metadata": {
        "colab": {
          "base_uri": "https://localhost:8080/"
        },
        "id": "2pGRuvTM1RHG",
        "outputId": "4f8b6ff6-4fcf-4cda-ae1a-1e8bbf155d89"
      },
      "execution_count": 9,
      "outputs": [
        {
          "output_type": "stream",
          "name": "stdout",
          "text": [
            "Confusion Matrix for Training Set:\n",
            " [[133   2]\n",
            " [  2 105]]\n",
            "Confusion Matrix for Test Set:\n",
            " [[25  4]\n",
            " [ 8 24]]\n",
            "Accuracy for training set for Random Forest = 0.98\n",
            "Accuracy for test set for Random Forest = 0.8\n"
          ]
        }
      ]
    },
    {
      "cell_type": "markdown",
      "source": [
        "## Bài tập 8: (sử dụng Adaboost cho dự đoán bệnh tim) hãy hoàn thiện chương trình sau sử dụng giải thuật Adaboost để dự đoán bệnh nhân có khả bị bệnh tim hay không sử dụng các tham số sau:n_estimators=50, learning_rate=1.0"
      ],
      "metadata": {
        "id": "i7ol8gnr1mvj"
      }
    },
    {
      "cell_type": "code",
      "source": [
        "import numpy as np\n",
        "import pandas as pd\n",
        "from sklearn.model_selection import train_test_split\n",
        "from sklearn.ensemble import AdaBoostClassifier\n",
        "from sklearn.metrics import confusion_matrix\n",
        "from sklearn.impute import SimpleImputer\n",
        "from sklearn.tree import DecisionTreeClassifier\n",
        "\n",
        "# Đọc dữ liệu từ tệp csv\n",
        "df = pd.read_csv('cleveland.csv', header=None)\n",
        "df.columns = ['age', 'sex', 'cp', 'trestbps', 'chol',\n",
        "              'fbs', 'restecg', 'thalach', 'exang',\n",
        "              'oldpeak', 'slope', 'ca', 'thal', 'target']\n",
        "\n",
        "# Bản đồ mục tiêu\n",
        "df['target'] = df.target.map({0: 0, 1: 1, 2: 1, 3: 1, 4: 1})\n",
        "\n",
        "# X và y\n",
        "X = df.iloc[:, :-1].values\n",
        "y = df.iloc[:, -1].values\n",
        "\n",
        "# Xử lý giá trị NaN bằng SimpleImputer\n",
        "imputer = SimpleImputer(strategy='mean')\n",
        "X = imputer.fit_transform(X)\n",
        "\n",
        "# Chia dữ liệu thành train và test\n",
        "X_train, X_test, y_train, y_test = train_test_split(X, y, test_size=0.2, random_state=42)\n",
        "\n",
        "# Khởi tạo và huấn luyện mô hình AdaBoost\n",
        "base_estimator = DecisionTreeClassifier(max_depth=1)\n",
        "adaboost = AdaBoostClassifier(estimator=base_estimator, n_estimators=50, learning_rate=1.0, random_state=42)\n",
        "\n",
        "# Huấn luyện mô hình\n",
        "adaboost.fit(X_train, y_train)\n",
        "\n",
        "# Dự đoán trên tập huấn luyện và kiểm tra\n",
        "y_train_pred = adaboost.predict(X_train)\n",
        "y_test_pred = adaboost.predict(X_test)\n",
        "\n",
        "# Tính toán ma trận nhầm lẫn cho cả tập huấn luyện và kiểm tra\n",
        "cm_train = confusion_matrix(y_train, y_train_pred)\n",
        "cm_test = confusion_matrix(y_test, y_test_pred)\n",
        "\n",
        "# In ra kết quả\n",
        "print(\"Confusion Matrix for Training Set:\\n\", cm_train)\n",
        "print(\"Confusion Matrix for Test Set:\\n\", cm_test)\n",
        "\n",
        "# Tính độ chính xác cho tập huấn luyện và kiểm tra\n",
        "accuracy_for_train = np.round((cm_train[0][0] + cm_train[1][1]) / len(y_train), 2)\n",
        "accuracy_for_test = np.round((cm_test[0][0] + cm_test[1][1]) / len(y_test), 2)\n",
        "\n",
        "print('Accuracy for training set for Adaboost = {}'.format(accuracy_for_train))\n",
        "print('Accuracy for test set for Adaboost = {}'.format(accuracy_for_test))"
      ],
      "metadata": {
        "colab": {
          "base_uri": "https://localhost:8080/"
        },
        "id": "9uZBU2EY1ylH",
        "outputId": "6958913b-c96b-4734-b5cc-3b947dace454"
      },
      "execution_count": 12,
      "outputs": [
        {
          "output_type": "stream",
          "name": "stderr",
          "text": [
            "/usr/local/lib/python3.10/dist-packages/sklearn/ensemble/_weight_boosting.py:527: FutureWarning: The SAMME.R algorithm (the default) is deprecated and will be removed in 1.6. Use the SAMME algorithm to circumvent this warning.\n",
            "  warnings.warn(\n"
          ]
        },
        {
          "output_type": "stream",
          "name": "stdout",
          "text": [
            "Confusion Matrix for Training Set:\n",
            " [[126   9]\n",
            " [ 12  95]]\n",
            "Confusion Matrix for Test Set:\n",
            " [[26  3]\n",
            " [ 7 25]]\n",
            "Accuracy for training set for Adaboost = 0.91\n",
            "Accuracy for test set for Adaboost = 0.84\n"
          ]
        }
      ]
    },
    {
      "cell_type": "markdown",
      "source": [
        "## Bài tập 9: (sử dụng GradientBoost cho dự đoán bệnh tim) hãy hoàn thiện chương trình sau sử dụng giải thuật GradientBoost để dự đoán bệnh nhân có khả bị bệnh tim hay không sử dụng các tham số sau: learning_rate=0.1, n_estimators=100, subsample=1.0, min_samples_split=2, max_depth=3,random_state=42"
      ],
      "metadata": {
        "id": "oZhQA7Lt2LYu"
      }
    },
    {
      "cell_type": "code",
      "source": [
        "import numpy as np\n",
        "import pandas as pd\n",
        "from sklearn.model_selection import train_test_split\n",
        "from sklearn.ensemble import GradientBoostingClassifier\n",
        "from sklearn.metrics import confusion_matrix\n",
        "from sklearn.impute import SimpleImputer\n",
        "\n",
        "# Đọc dữ liệu từ tệp csv\n",
        "df = pd.read_csv('cleveland.csv', header=None)\n",
        "df.columns = ['age', 'sex', 'cp', 'trestbps', 'chol',\n",
        "              'fbs', 'restecg', 'thalach', 'exang',\n",
        "              'oldpeak', 'slope', 'ca', 'thal', 'target']\n",
        "\n",
        "# Bản đồ mục tiêu\n",
        "df['target'] = df.target.map({0: 0, 1: 1, 2: 1, 3: 1, 4: 1})\n",
        "\n",
        "# X và y\n",
        "X = df.iloc[:, :-1].values\n",
        "y = df.iloc[:, -1].values\n",
        "\n",
        "# Xử lý giá trị NaN bằng SimpleImputer\n",
        "imputer = SimpleImputer(strategy='mean')\n",
        "X = imputer.fit_transform(X)\n",
        "\n",
        "# Chia dữ liệu thành train và test\n",
        "X_train, X_test, y_train, y_test = train_test_split(X, y, test_size=0.2, random_state=42)\n",
        "\n",
        "# Khởi tạo và huấn luyện mô hình Gradient Boosting\n",
        "gb = GradientBoostingClassifier(\n",
        "    learning_rate=0.1,\n",
        "    n_estimators=100,\n",
        "    subsample=1.0,\n",
        "    min_samples_split=2,\n",
        "    max_depth=3,\n",
        "    random_state=42\n",
        ")\n",
        "\n",
        "# Huấn luyện mô hình\n",
        "gb.fit(X_train, y_train)\n",
        "\n",
        "# Dự đoán trên tập huấn luyện và kiểm tra\n",
        "y_train_pred = gb.predict(X_train)\n",
        "y_test_pred = gb.predict(X_test)\n",
        "\n",
        "# Tính toán ma trận nhầm lẫn cho cả tập huấn luyện và kiểm tra\n",
        "cm_train = confusion_matrix(y_train, y_train_pred)\n",
        "cm_test = confusion_matrix(y_test, y_test_pred)\n",
        "\n",
        "# In ra kết quả\n",
        "print(\"Confusion Matrix for Training Set:\\n\", cm_train)\n",
        "print(\"Confusion Matrix for Test Set:\\n\", cm_test)\n",
        "\n",
        "# Tính độ chính xác cho tập huấn luyện và kiểm tra\n",
        "accuracy_for_train = np.round((cm_train[0][0] + cm_train[1][1]) / len(y_train), 2)\n",
        "accuracy_for_test = np.round((cm_test[0][0] + cm_test[1][1]) / len(y_test), 2)\n",
        "\n",
        "print('Accuracy for training set for GradientBoost = {}'.format(accuracy_for_train))\n",
        "print('Accuracy for test set for GradientBoost = {}'.format(accuracy_for_test))"
      ],
      "metadata": {
        "colab": {
          "base_uri": "https://localhost:8080/"
        },
        "id": "XeEObn1E2O2X",
        "outputId": "6b07855f-6e39-48f1-f603-b935cc7415ce"
      },
      "execution_count": 13,
      "outputs": [
        {
          "output_type": "stream",
          "name": "stdout",
          "text": [
            "Confusion Matrix for Training Set:\n",
            " [[135   0]\n",
            " [  1 106]]\n",
            "Confusion Matrix for Test Set:\n",
            " [[25  4]\n",
            " [ 5 27]]\n",
            "Accuracy for training set for GradientBoost = 1.0\n",
            "Accuracy for test set for GradientBoost = 0.85\n"
          ]
        }
      ]
    },
    {
      "cell_type": "markdown",
      "source": [
        "## Bài tập 10: (sử dụng XGboost cho dự đoán bệnh tim) hãy hoàn thiện chương trình sau sử dụng giải thuật XGboost để dự đoán bệnh nhân có khả bị bệnh tim hay không sử dụng các tham số sau: objective=\"binary:logistic\", random_state=42, n_estimators = 100"
      ],
      "metadata": {
        "id": "XlLz7yFH2iCZ"
      }
    },
    {
      "cell_type": "code",
      "source": [
        "import numpy as np\n",
        "import pandas as pd\n",
        "from sklearn.model_selection import train_test_split\n",
        "from sklearn.metrics import confusion_matrix\n",
        "from sklearn.impute import SimpleImputer\n",
        "from xgboost import XGBClassifier\n",
        "\n",
        "# Đọc dữ liệu từ tệp csv\n",
        "df = pd.read_csv('cleveland.csv', header=None)\n",
        "df.columns = ['age', 'sex', 'cp', 'trestbps', 'chol',\n",
        "              'fbs', 'restecg', 'thalach', 'exang',\n",
        "              'oldpeak', 'slope', 'ca', 'thal', 'target']\n",
        "\n",
        "# Bản đồ mục tiêu\n",
        "df['target'] = df.target.map({0: 0, 1: 1, 2: 1, 3: 1, 4: 1})\n",
        "\n",
        "# X và y\n",
        "X = df.iloc[:, :-1].values\n",
        "y = df.iloc[:, -1].values\n",
        "\n",
        "# Xử lý giá trị NaN bằng SimpleImputer\n",
        "imputer = SimpleImputer(strategy='mean')\n",
        "X = imputer.fit_transform(X)\n",
        "\n",
        "# Chia dữ liệu thành train và test\n",
        "X_train, X_test, y_train, y_test = train_test_split(X, y, test_size=0.2, random_state=42)\n",
        "\n",
        "# Khởi tạo và huấn luyện mô hình XGBoost\n",
        "xgboost = XGBClassifier(objective='binary:logistic', random_state=42, n_estimators=100)\n",
        "\n",
        "# Huấn luyện mô hình\n",
        "xgboost.fit(X_train, y_train)\n",
        "\n",
        "# Dự đoán trên tập huấn luyện và kiểm tra\n",
        "y_train_pred = xgboost.predict(X_train)\n",
        "y_test_pred = xgboost.predict(X_test)\n",
        "\n",
        "# Tính toán ma trận nhầm lẫn cho cả tập huấn luyện và kiểm tra\n",
        "cm_train = confusion_matrix(y_train, y_train_pred)\n",
        "cm_test = confusion_matrix(y_test, y_test_pred)\n",
        "\n",
        "# In ra kết quả\n",
        "print(\"Confusion Matrix for Training Set:\\n\", cm_train)\n",
        "print(\"Confusion Matrix for Test Set:\\n\", cm_test)\n",
        "\n",
        "# Tính độ chính xác cho tập huấn luyện và kiểm tra\n",
        "accuracy_for_train = np.round((cm_train[0][0] + cm_train[1][1]) / len(y_train), 2)\n",
        "accuracy_for_test = np.round((cm_test[0][0] + cm_test[1][1]) / len(y_test), 2)\n",
        "\n",
        "print('Accuracy for training set for XGboost = {}'.format(accuracy_for_train))\n",
        "print('Accuracy for test set for XGboost = {}'.format(accuracy_for_test))"
      ],
      "metadata": {
        "colab": {
          "base_uri": "https://localhost:8080/"
        },
        "id": "8XeSkLsw2oAR",
        "outputId": "db828bee-b5e4-4228-ff3e-8c6db677f46b"
      },
      "execution_count": 14,
      "outputs": [
        {
          "output_type": "stream",
          "name": "stdout",
          "text": [
            "Confusion Matrix for Training Set:\n",
            " [[135   0]\n",
            " [  0 107]]\n",
            "Confusion Matrix for Test Set:\n",
            " [[26  3]\n",
            " [ 5 27]]\n",
            "Accuracy for training set for XGboost = 1.0\n",
            "Accuracy for test set for XGboost = 0.87\n"
          ]
        }
      ]
    },
    {
      "cell_type": "markdown",
      "source": [
        "## Bài tập 11: (sử dụng kỷ thuật Stacking cho dự đoán bệnh tim) hãy hoàn thiện chương trình sau sử dụng kỹ thuật Stacking để dự đoán bệnh nhân có khả bị bệnh tim hay bằng cách dùng phương pháp stacking sử dụng heterogeneous approach với mô hình giải thuật được thể hiện ở hình 1."
      ],
      "metadata": {
        "id": "y-5AQ_UA2_ya"
      }
    },
    {
      "cell_type": "code",
      "source": [
        "import numpy as np\n",
        "import pandas as pd\n",
        "from sklearn.model_selection import train_test_split\n",
        "from sklearn.tree import DecisionTreeClassifier\n",
        "from sklearn.ensemble import RandomForestClassifier, GradientBoostingClassifier, AdaBoostClassifier, StackingClassifier\n",
        "from sklearn.neighbors import KNeighborsClassifier\n",
        "from sklearn.svm import SVC\n",
        "from sklearn.metrics import confusion_matrix\n",
        "from sklearn.impute import SimpleImputer\n",
        "from xgboost import XGBClassifier\n",
        "\n",
        "# Dữ liệu\n",
        "df = pd.read_csv('cleveland.csv', header=None)\n",
        "df.columns = ['age', 'sex', 'cp', 'trestbps', 'chol',\n",
        "              'fbs', 'restecg', 'thalach', 'exang',\n",
        "              'oldpeak', 'slope', 'ca', 'thal', 'target']\n",
        "\n",
        "df['target'] = df.target.map({0: 0, 1: 1, 2: 1, 3: 1, 4: 1})\n",
        "\n",
        "X = df.iloc[:, :-1].values\n",
        "y = df.iloc[:, -1].values\n",
        "\n",
        "imputer = SimpleImputer(strategy='mean')\n",
        "X = imputer.fit_transform(X)\n",
        "\n",
        "X_train, X_test, y_train, y_test = train_test_split(X, y, test_size=0.2, random_state=42)\n",
        "\n",
        "# Mô hình\n",
        "dtc = DecisionTreeClassifier(random_state=42)\n",
        "rfc = RandomForestClassifier(random_state=42)\n",
        "knn = KNeighborsClassifier()\n",
        "xgb = XGBClassifier(random_state=42)\n",
        "gc = GradientBoostingClassifier(random_state=42)\n",
        "svc = SVC(kernel='rbf', random_state=42, probability=True)\n",
        "ad = AdaBoostClassifier(random_state=42)\n",
        "\n",
        "# Stacking\n",
        "estimators = [\n",
        "    ('dtc', dtc),\n",
        "    ('rfc', rfc),\n",
        "    ('knn', knn),\n",
        "    ('xgb', xgb),\n",
        "    ('gc', gc),\n",
        "    ('svc', svc),\n",
        "    ('ad', ad)\n",
        "]\n",
        "\n",
        "stacking_clf = StackingClassifier(\n",
        "    estimators=estimators,\n",
        "    final_estimator=GradientBoostingClassifier(random_state=42),\n",
        "    cv=5\n",
        ")\n",
        "\n",
        "stacking_clf.fit(X_train, y_train)\n",
        "\n",
        "y_train_pred = stacking_clf.predict(X_train)\n",
        "y_test_pred = stacking_clf.predict(X_test)\n",
        "\n",
        "cm_train = confusion_matrix(y_train, y_train_pred)\n",
        "cm_test = confusion_matrix(y_test, y_test_pred)\n",
        "\n",
        "accuracy_for_train = np.round((cm_train[0][0] + cm_train[1][1]) / len(y_train), 2)\n",
        "accuracy_for_test = np.round((cm_test[0][0] + cm_test[1][1]) / len(y_test), 2)\n",
        "\n",
        "print('Accuracy for training set for Stacking = {}'.format(accuracy_for_train))\n",
        "print('Accuracy for test set for Stacking = {}'.format(accuracy_for_test))"
      ],
      "metadata": {
        "colab": {
          "base_uri": "https://localhost:8080/"
        },
        "id": "H8oY7U8p3CSD",
        "outputId": "8c785d4c-8318-449f-e31a-bf2ce2e0a9e5"
      },
      "execution_count": 16,
      "outputs": [
        {
          "output_type": "stream",
          "name": "stderr",
          "text": [
            "/usr/local/lib/python3.10/dist-packages/sklearn/ensemble/_weight_boosting.py:527: FutureWarning: The SAMME.R algorithm (the default) is deprecated and will be removed in 1.6. Use the SAMME algorithm to circumvent this warning.\n",
            "  warnings.warn(\n",
            "/usr/local/lib/python3.10/dist-packages/sklearn/ensemble/_weight_boosting.py:527: FutureWarning: The SAMME.R algorithm (the default) is deprecated and will be removed in 1.6. Use the SAMME algorithm to circumvent this warning.\n",
            "  warnings.warn(\n",
            "/usr/local/lib/python3.10/dist-packages/sklearn/ensemble/_weight_boosting.py:527: FutureWarning: The SAMME.R algorithm (the default) is deprecated and will be removed in 1.6. Use the SAMME algorithm to circumvent this warning.\n",
            "  warnings.warn(\n",
            "/usr/local/lib/python3.10/dist-packages/sklearn/ensemble/_weight_boosting.py:527: FutureWarning: The SAMME.R algorithm (the default) is deprecated and will be removed in 1.6. Use the SAMME algorithm to circumvent this warning.\n",
            "  warnings.warn(\n",
            "/usr/local/lib/python3.10/dist-packages/sklearn/ensemble/_weight_boosting.py:527: FutureWarning: The SAMME.R algorithm (the default) is deprecated and will be removed in 1.6. Use the SAMME algorithm to circumvent this warning.\n",
            "  warnings.warn(\n",
            "/usr/local/lib/python3.10/dist-packages/sklearn/ensemble/_weight_boosting.py:527: FutureWarning: The SAMME.R algorithm (the default) is deprecated and will be removed in 1.6. Use the SAMME algorithm to circumvent this warning.\n",
            "  warnings.warn(\n"
          ]
        },
        {
          "output_type": "stream",
          "name": "stdout",
          "text": [
            "Accuracy for training set for Stacking = 0.98\n",
            "Accuracy for test set for Stacking = 0.9\n"
          ]
        }
      ]
    }
  ]
}